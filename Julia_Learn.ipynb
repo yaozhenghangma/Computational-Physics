{
  "cells": [
    {
      "cell_type": "markdown",
      "source": [
        "## Data Type"
      ],
      "metadata": {}
    },
    {
      "cell_type": "code",
      "source": [
        "# integer type\n",
        "println(typemin(Int64))\n",
        "println(typemax(UInt64))"
      ],
      "outputs": [
        {
          "output_type": "stream",
          "name": "stdout",
          "text": [
            "-9223372036854775808\n",
            "18446744073709551615\n"
          ]
        }
      ],
      "execution_count": 1,
      "metadata": {
        "collapsed": false,
        "outputHidden": false,
        "inputHidden": false
      }
    },
    {
      "cell_type": "code",
      "source": [
        "# Assignment\n",
        "variable_a = 128\n",
        "string_b = \"Hello, Julia\"\n",
        "Int32_c = Int32(64)\n",
        "println(typeof(variable_a))\n",
        "println(typeof(string_b))\n",
        "println(typeof(Int32_c))"
      ],
      "outputs": [
        {
          "output_type": "stream",
          "name": "stdout",
          "text": [
            "Int64\n",
            "String\n",
            "Int32\n"
          ]
        }
      ],
      "execution_count": 2,
      "metadata": {
        "collapsed": false,
        "outputHidden": false,
        "inputHidden": false
      }
    },
    {
      "cell_type": "code",
      "source": [
        "# Logistical type\n",
        "println(bitstring(true))\n",
        "println(bitstring(false))\n",
        "println(Bool(UInt8(1)))\n",
        "println(Bool(0))"
      ],
      "outputs": [
        {
          "output_type": "stream",
          "name": "stdout",
          "text": [
            "00000001\n",
            "00000000\n",
            "true\n",
            "false\n"
          ]
        }
      ],
      "execution_count": 3,
      "metadata": {
        "collapsed": false,
        "outputHidden": false,
        "inputHidden": false
      }
    },
    {
      "cell_type": "code",
      "source": [
        "# Float type\n",
        "println(typemax(Float64))\n",
        "println(eps(128.0))"
      ],
      "outputs": [
        {
          "output_type": "stream",
          "name": "stdout",
          "text": [
            "Inf\n",
            "2.842170943040401e-14\n"
          ]
        }
      ],
      "execution_count": 6,
      "metadata": {
        "collapsed": false,
        "outputHidden": false,
        "inputHidden": false
      }
    },
    {
      "cell_type": "code",
      "source": [
        "# Function zero and one\n",
        "println(one(Int64))\n",
        "println(typeof(zero(Float32)))"
      ],
      "outputs": [
        {
          "output_type": "stream",
          "name": "stdout",
          "text": [
            "1\n",
            "Float32\n"
          ]
        }
      ],
      "execution_count": 4,
      "metadata": {
        "collapsed": false,
        "outputHidden": false,
        "inputHidden": false
      }
    },
    {
      "cell_type": "code",
      "source": [
        "# Infinity value\n",
        "println(1.2/0)\n",
        "println(isfinite(Inf))\n",
        "println(isinf(-Inf))"
      ],
      "outputs": [
        {
          "output_type": "stream",
          "name": "stdout",
          "text": [
            "Inf\n",
            "false\n",
            "true\n"
          ]
        }
      ],
      "execution_count": 8,
      "metadata": {
        "collapsed": false,
        "outputHidden": false,
        "inputHidden": false
      }
    },
    {
      "cell_type": "code",
      "source": [
        "# Not A Number\n",
        "println(isnan(1))\n",
        "println(-NaN)"
      ],
      "outputs": [
        {
          "output_type": "stream",
          "name": "stdout",
          "text": [
            "false\n",
            "NaN\n"
          ]
        }
      ],
      "execution_count": 9,
      "metadata": {
        "collapsed": false,
        "outputHidden": false,
        "inputHidden": false
      }
    },
    {
      "cell_type": "code",
      "source": [
        "# Constant\n",
        "using Base.MathConstants\n",
        "pi"
      ],
      "outputs": [
        {
          "output_type": "execute_result",
          "execution_count": 15,
          "data": {
            "text/plain": [
              "π = 3.1415926535897..."
            ]
          },
          "metadata": {}
        }
      ],
      "execution_count": 15,
      "metadata": {
        "collapsed": false,
        "outputHidden": false,
        "inputHidden": false
      }
    },
    {
      "cell_type": "code",
      "source": [
        "typeof(e)"
      ],
      "outputs": [
        {
          "output_type": "execute_result",
          "execution_count": 16,
          "data": {
            "text/plain": [
              "Irrational{:ℯ}"
            ]
          },
          "metadata": {}
        }
      ],
      "execution_count": 16,
      "metadata": {
        "collapsed": false,
        "outputHidden": false,
        "inputHidden": false
      }
    },
    {
      "cell_type": "code",
      "source": [
        "# Complex Number\n",
        "complex_d = 1+2im\n",
        "println(typeof(complex_d))\n",
        "println(complex_d)"
      ],
      "outputs": [
        {
          "output_type": "stream",
          "name": "stdout",
          "text": [
            "Complex{Int64}\n",
            "1 + 2im\n"
          ]
        }
      ],
      "execution_count": 17,
      "metadata": {
        "collapsed": false,
        "outputHidden": false,
        "inputHidden": false
      }
    },
    {
      "cell_type": "code",
      "source": [
        "complex_f = 2+3im\n",
        "println(\"d*f:\\t\", complex_d*complex_f)\n",
        "println(complex(variable_a, Int32_c))"
      ],
      "outputs": [
        {
          "output_type": "stream",
          "name": "stdout",
          "text": [
            "d*f:\t-4 + 7im\n",
            "128 + 64im\n"
          ]
        }
      ],
      "execution_count": 22,
      "metadata": {
        "collapsed": false,
        "outputHidden": false,
        "inputHidden": false
      }
    },
    {
      "cell_type": "code",
      "source": [
        "# Arbitraty Precision Arithmetic\n",
        "println(BigInt(typemax(Int64))+1)"
      ],
      "outputs": [
        {
          "output_type": "stream",
          "name": "stdout",
          "text": [
            "9223372036854775808\n"
          ]
        }
      ],
      "execution_count": 24,
      "metadata": {
        "collapsed": false,
        "outputHidden": false,
        "inputHidden": false
      }
    },
    {
      "cell_type": "markdown",
      "source": [
        "## Random Number"
      ],
      "metadata": {}
    },
    {
      "cell_type": "code",
      "source": [
        "# Default generator: Mersenne Twister Library(RNG)\n",
        "# Base Module\n",
        "# Uniform distribution: rand(), [0,1)\n",
        "println(rand(2))\n",
        "# Gaussian distribution: randn(), where mean value is 0 and variance is 1\n",
        "println(randn())"
      ],
      "outputs": [
        {
          "output_type": "stream",
          "name": "stdout",
          "text": [
            "[0.7859461948917024, 0.9151307862887186]\n",
            "-0.10540333068181178\n"
          ]
        }
      ],
      "execution_count": 1,
      "metadata": {
        "collapsed": false,
        "outputHidden": false,
        "inputHidden": false
      }
    },
    {
      "cell_type": "code",
      "source": [
        "# Random Module\n",
        "using Random\n",
        "# Bool Random\n",
        "println(bitrand(2))\n",
        "# Exponential distribution\n",
        "println(randexp(2))\n",
        "# random string\n",
        "println(randstring('a':'z', 6))\n",
        "# shuffle a vector\n",
        "println(shuffle(Vector(1:3)))\n",
        "# random seed\n",
        "Random.seed!(123)\n",
        "# using seed from device\n",
        "rng = RandomDevice()\n",
        "println(rand(rng, 2))"
      ],
      "outputs": [
        {
          "output_type": "stream",
          "name": "stdout",
          "text": [
            "Bool[0, 0]\n",
            "[4.021520186945963, 0.9197756926152971]\n",
            "xrfrjg\n",
            "[1, 2, 3]\n",
            "[0.5599261047584607, 0.8415300012376294]\n"
          ]
        }
      ],
      "execution_count": 14,
      "metadata": {
        "collapsed": false,
        "outputHidden": false,
        "inputHidden": false
      }
    },
    {
      "cell_type": "markdown",
      "source": [
        "## Operator"
      ],
      "metadata": {}
    },
    {
      "cell_type": "code",
      "source": [
        "x = 2\n",
        "y = 2.2\n",
        "println(x^y)\n",
        "println(y%x)\n",
        "println(y/x)\n",
        "println(y÷x)\n",
        "println(√(Complex(-1)))"
      ],
      "outputs": [
        {
          "output_type": "stream",
          "name": "stdout",
          "text": [
            "4.59479341998814\n",
            "0.20000000000000018\n",
            "1.1\n",
            "1.0\n",
            "0.0 + 1.0im\n"
          ]
        }
      ],
      "execution_count": 17,
      "metadata": {
        "collapsed": false,
        "outputHidden": false,
        "inputHidden": false
      }
    },
    {
      "cell_type": "code",
      "source": [
        "println(true | false)\n",
        "println(true & false)\n",
        "println(~true)"
      ],
      "outputs": [
        {
          "output_type": "stream",
          "name": "stdout",
          "text": [
            "true\n",
            "false\n",
            "false\n"
          ]
        }
      ],
      "execution_count": 19,
      "metadata": {
        "collapsed": false,
        "outputHidden": false,
        "inputHidden": false
      }
    },
    {
      "cell_type": "code",
      "source": [
        "println(1 > 2)\n",
        "println(1 < 2)\n",
        "println(1 == 2)\n",
        "println(1+2im != 2+1im)\n",
        "println(Int32(1) === Int64(1))\n",
        "println(Int32(1) !== Int64(1))"
      ],
      "outputs": [
        {
          "output_type": "stream",
          "name": "stdout",
          "text": [
            "false\n",
            "true\n",
            "false\n",
            "true\n",
            "false\n",
            "true\n"
          ]
        }
      ],
      "execution_count": 20,
      "metadata": {
        "collapsed": false,
        "outputHidden": false,
        "inputHidden": false
      }
    },
    {
      "cell_type": "code",
      "source": [
        "println(true && false)\n",
        "println(true || false)\n",
        "println(!true)"
      ],
      "outputs": [
        {
          "output_type": "stream",
          "name": "stdout",
          "text": [
            "false\n",
            "true\n",
            "false\n"
          ]
        }
      ],
      "execution_count": 21,
      "metadata": {
        "collapsed": false,
        "outputHidden": false,
        "inputHidden": false
      }
    },
    {
      "cell_type": "markdown",
      "source": [
        "## Compound Expression"
      ],
      "metadata": {}
    },
    {
      "cell_type": "code",
      "source": [
        "begin\n",
        "    println(1+1)\n",
        "    println(1+2)\n",
        "end\n",
        "begin println(1); println(2); end"
      ],
      "outputs": [
        {
          "output_type": "stream",
          "name": "stdout",
          "text": [
            "2\n",
            "3\n",
            "1\n",
            "2\n"
          ]
        }
      ],
      "execution_count": 22,
      "metadata": {
        "collapsed": false,
        "outputHidden": false,
        "inputHidden": false
      }
    },
    {
      "cell_type": "code",
      "source": [
        "if true\n",
        "    println(1)\n",
        "elseif false\n",
        "    println(2)\n",
        "else\n",
        "    println(3)\n",
        "end"
      ],
      "outputs": [
        {
          "output_type": "stream",
          "name": "stdout",
          "text": [
            "1\n"
          ]
        }
      ],
      "execution_count": 24,
      "metadata": {
        "collapsed": false,
        "outputHidden": false,
        "inputHidden": false
      }
    },
    {
      "cell_type": "code",
      "source": [
        "for i in 1:3\n",
        "    println(i)\n",
        "    if i == 2\n",
        "        break\n",
        "    end\n",
        "end"
      ],
      "outputs": [
        {
          "output_type": "stream",
          "name": "stdout",
          "text": [
            "1\n",
            "2\n"
          ]
        }
      ],
      "execution_count": 25,
      "metadata": {
        "collapsed": false,
        "outputHidden": false,
        "inputHidden": false
      }
    },
    {
      "cell_type": "code",
      "source": [],
      "outputs": [],
      "execution_count": null,
      "metadata": {
        "collapsed": false,
        "outputHidden": false,
        "inputHidden": false
      }
    }
  ],
  "metadata": {
    "kernelspec": {
      "name": "julia-1.2",
      "language": "julia",
      "display_name": "Julia 1.2.0"
    },
    "language_info": {
      "file_extension": ".jl",
      "name": "julia",
      "mimetype": "application/julia",
      "version": "1.2.0"
    },
    "kernel_info": {
      "name": "julia-1.2"
    },
    "nteract": {
      "version": "0.15.0"
    }
  },
  "nbformat": 4,
  "nbformat_minor": 0
}