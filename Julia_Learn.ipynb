{
  "cells": [
    {
      "cell_type": "markdown",
      "source": [
        "## Data Type"
      ],
      "metadata": {}
    },
    {
      "cell_type": "code",
      "source": [
        "# integer type\n",
        "println(typemin(Int64))\n",
        "println(typemax(UInt64))"
      ],
      "outputs": [
        {
          "output_type": "stream",
          "name": "stdout",
          "text": [
            "-9223372036854775808\n",
            "18446744073709551615\n"
          ]
        }
      ],
      "execution_count": 1,
      "metadata": {
        "collapsed": false,
        "outputHidden": false,
        "inputHidden": false
      }
    },
    {
      "cell_type": "code",
      "source": [
        "# Assignment\n",
        "variable_a = 128\n",
        "string_b = \"Hello, Julia\"\n",
        "Int32_c = Int32(64)\n",
        "println(typeof(variable_a))\n",
        "println(typeof(string_b))\n",
        "println(typeof(Int32_c))"
      ],
      "outputs": [
        {
          "output_type": "stream",
          "name": "stdout",
          "text": [
            "Int64\n",
            "String\n",
            "Int32\n"
          ]
        }
      ],
      "execution_count": 2,
      "metadata": {
        "collapsed": false,
        "outputHidden": false,
        "inputHidden": false
      }
    },
    {
      "cell_type": "code",
      "source": [
        "# Logistical type\n",
        "println(bitstring(true))\n",
        "println(bitstring(false))\n",
        "println(Bool(UInt8(1)))\n",
        "println(Bool(0))"
      ],
      "outputs": [
        {
          "output_type": "stream",
          "name": "stdout",
          "text": [
            "00000001\n",
            "00000000\n",
            "true\n",
            "false\n"
          ]
        }
      ],
      "execution_count": 3,
      "metadata": {
        "collapsed": false,
        "outputHidden": false,
        "inputHidden": false
      }
    },
    {
      "cell_type": "code",
      "source": [
        "# Float type\n",
        "println(typemax(Float64))\n",
        "println(eps(128.0))"
      ],
      "outputs": [
        {
          "output_type": "stream",
          "name": "stdout",
          "text": [
            "Inf\n",
            "2.842170943040401e-14\n"
          ]
        }
      ],
      "execution_count": 6,
      "metadata": {
        "collapsed": false,
        "outputHidden": false,
        "inputHidden": false
      }
    },
    {
      "cell_type": "code",
      "source": [
        "# Function zero and one\n",
        "println(one(Int64))\n",
        "println(typeof(zero(Float32)))"
      ],
      "outputs": [
        {
          "output_type": "stream",
          "name": "stdout",
          "text": [
            "1\n",
            "Float32\n"
          ]
        }
      ],
      "execution_count": 4,
      "metadata": {
        "collapsed": false,
        "outputHidden": false,
        "inputHidden": false
      }
    },
    {
      "cell_type": "code",
      "source": [
        "# Infinity value\n",
        "println(1.2/0)\n",
        "println(isfinite(Inf))\n",
        "println(isinf(-Inf))"
      ],
      "outputs": [
        {
          "output_type": "stream",
          "name": "stdout",
          "text": [
            "Inf\n",
            "false\n",
            "true\n"
          ]
        }
      ],
      "execution_count": 8,
      "metadata": {
        "collapsed": false,
        "outputHidden": false,
        "inputHidden": false
      }
    },
    {
      "cell_type": "code",
      "source": [
        "# Not A Number\n",
        "println(isnan(1))\n",
        "println(-NaN)"
      ],
      "outputs": [
        {
          "output_type": "stream",
          "name": "stdout",
          "text": [
            "false\n",
            "NaN\n"
          ]
        }
      ],
      "execution_count": 9,
      "metadata": {
        "collapsed": false,
        "outputHidden": false,
        "inputHidden": false
      }
    },
    {
      "cell_type": "code",
      "source": [
        "# Constant\n",
        "using Base.MathConstants\n",
        "pi"
      ],
      "outputs": [
        {
          "output_type": "execute_result",
          "execution_count": 15,
          "data": {
            "text/plain": [
              "π = 3.1415926535897..."
            ]
          },
          "metadata": {}
        }
      ],
      "execution_count": 15,
      "metadata": {
        "collapsed": false,
        "outputHidden": false,
        "inputHidden": false
      }
    },
    {
      "cell_type": "code",
      "source": [
        "typeof(e)"
      ],
      "outputs": [
        {
          "output_type": "execute_result",
          "execution_count": 16,
          "data": {
            "text/plain": [
              "Irrational{:ℯ}"
            ]
          },
          "metadata": {}
        }
      ],
      "execution_count": 16,
      "metadata": {
        "collapsed": false,
        "outputHidden": false,
        "inputHidden": false
      }
    },
    {
      "cell_type": "code",
      "source": [
        "# Complex Number\n",
        "complex_d = 1+2im\n",
        "println(typeof(complex_d))\n",
        "println(complex_d)"
      ],
      "outputs": [
        {
          "output_type": "stream",
          "name": "stdout",
          "text": [
            "Complex{Int64}\n",
            "1 + 2im\n"
          ]
        }
      ],
      "execution_count": 17,
      "metadata": {
        "collapsed": false,
        "outputHidden": false,
        "inputHidden": false
      }
    },
    {
      "cell_type": "code",
      "source": [
        "complex_f = 2+3im\n",
        "println(\"d*f:\\t\", complex_d*complex_f)\n",
        "println(complex(variable_a, Int32_c))"
      ],
      "outputs": [
        {
          "output_type": "stream",
          "name": "stdout",
          "text": [
            "d*f:\t-4 + 7im\n",
            "128 + 64im\n"
          ]
        }
      ],
      "execution_count": 22,
      "metadata": {
        "collapsed": false,
        "outputHidden": false,
        "inputHidden": false
      }
    },
    {
      "cell_type": "code",
      "source": [
        "# Arbitraty Precision Arithmetic\n",
        "println(BigInt(typemax(Int64))+1)"
      ],
      "outputs": [
        {
          "output_type": "stream",
          "name": "stdout",
          "text": [
            "9223372036854775808\n"
          ]
        }
      ],
      "execution_count": 24,
      "metadata": {
        "collapsed": false,
        "outputHidden": false,
        "inputHidden": false
      }
    },
    {
      "cell_type": "markdown",
      "source": [
        "## Random Number"
      ],
      "metadata": {}
    },
    {
      "cell_type": "code",
      "source": [
        "# Default generator: Mersenne Twister Library(RNG)\n",
        "# Base Module\n",
        "# Uniform distribution: rand(), [0,1)\n",
        "println(rand(2))\n",
        "# Gaussian distribution: randn(), where mean value is 0 and variance is 1\n",
        "println(randn())"
      ],
      "outputs": [
        {
          "output_type": "stream",
          "name": "stdout",
          "text": [
            "[0.7859461948917024, 0.9151307862887186]\n",
            "-0.10540333068181178\n"
          ]
        }
      ],
      "execution_count": 1,
      "metadata": {
        "collapsed": false,
        "outputHidden": false,
        "inputHidden": false
      }
    },
    {
      "cell_type": "code",
      "source": [
        "# Random Module\n",
        "using Random\n",
        "# Bool Random\n",
        "println(bitrand(2))\n",
        "# Exponential distribution\n",
        "println(randexp(2))\n",
        "# random string\n",
        "println(randstring('a':'z', 6))\n",
        "# shuffle a vector\n",
        "println(shuffle(Vector(1:3)))\n",
        "# random seed\n",
        "Random.seed!(123)\n",
        "# using seed from device\n",
        "rng = RandomDevice()\n",
        "println(rand(rng, 2))"
      ],
      "outputs": [
        {
          "output_type": "stream",
          "name": "stdout",
          "text": [
            "Bool[0, 0]\n",
            "[4.021520186945963, 0.9197756926152971]\n",
            "xrfrjg\n",
            "[1, 2, 3]\n",
            "[0.5599261047584607, 0.8415300012376294]\n"
          ]
        }
      ],
      "execution_count": 14,
      "metadata": {
        "collapsed": false,
        "outputHidden": false,
        "inputHidden": false
      }
    },
    {
      "cell_type": "markdown",
      "source": [
        "## Operator"
      ],
      "metadata": {}
    },
    {
      "cell_type": "code",
      "source": [
        "x = 2\n",
        "y = 2.2\n",
        "println(x^y)\n",
        "println(y%x)\n",
        "println(y/x)\n",
        "println(y÷x)\n",
        "println(√(Complex(-1)))"
      ],
      "outputs": [
        {
          "output_type": "stream",
          "name": "stdout",
          "text": [
            "4.59479341998814\n",
            "0.20000000000000018\n",
            "1.1\n",
            "1.0\n",
            "0.0 + 1.0im\n"
          ]
        }
      ],
      "execution_count": 17,
      "metadata": {
        "collapsed": false,
        "outputHidden": false,
        "inputHidden": false
      }
    },
    {
      "cell_type": "code",
      "source": [
        "println(true | false)\n",
        "println(true & false)\n",
        "println(~true)"
      ],
      "outputs": [
        {
          "output_type": "stream",
          "name": "stdout",
          "text": [
            "true\n",
            "false\n",
            "false\n"
          ]
        }
      ],
      "execution_count": 19,
      "metadata": {
        "collapsed": false,
        "outputHidden": false,
        "inputHidden": false
      }
    },
    {
      "cell_type": "code",
      "source": [
        "println(1 > 2)\n",
        "println(1 < 2)\n",
        "println(1 == 2)\n",
        "println(1+2im != 2+1im)\n",
        "println(Int32(1) === Int64(1))\n",
        "println(Int32(1) !== Int64(1))"
      ],
      "outputs": [
        {
          "output_type": "stream",
          "name": "stdout",
          "text": [
            "false\n",
            "true\n",
            "false\n",
            "true\n",
            "false\n",
            "true\n"
          ]
        }
      ],
      "execution_count": 20,
      "metadata": {
        "collapsed": false,
        "outputHidden": false,
        "inputHidden": false
      }
    },
    {
      "cell_type": "code",
      "source": [
        "println(true && false)\n",
        "println(true || false)\n",
        "println(!true)"
      ],
      "outputs": [
        {
          "output_type": "stream",
          "name": "stdout",
          "text": [
            "false\n",
            "true\n",
            "false\n"
          ]
        }
      ],
      "execution_count": 21,
      "metadata": {
        "collapsed": false,
        "outputHidden": false,
        "inputHidden": false
      }
    },
    {
      "cell_type": "markdown",
      "source": [
        "## Compound Expression"
      ],
      "metadata": {}
    },
    {
      "cell_type": "code",
      "source": [
        "begin\n",
        "    println(1+1)\n",
        "    println(1+2)\n",
        "end\n",
        "begin println(1); println(2); end"
      ],
      "outputs": [
        {
          "output_type": "stream",
          "name": "stdout",
          "text": [
            "2\n",
            "3\n",
            "1\n",
            "2\n"
          ]
        }
      ],
      "execution_count": 22,
      "metadata": {
        "collapsed": false,
        "outputHidden": false,
        "inputHidden": false
      }
    },
    {
      "cell_type": "code",
      "source": [
        "if true\n",
        "    println(1)\n",
        "elseif false\n",
        "    println(2)\n",
        "else\n",
        "    println(3)\n",
        "end"
      ],
      "outputs": [
        {
          "output_type": "stream",
          "name": "stdout",
          "text": [
            "1\n"
          ]
        }
      ],
      "execution_count": 24,
      "metadata": {
        "collapsed": false,
        "outputHidden": false,
        "inputHidden": false
      }
    },
    {
      "cell_type": "code",
      "source": [
        "for i in 1:3\n",
        "    println(i)\n",
        "    if i == 2\n",
        "        break\n",
        "    end\n",
        "end"
      ],
      "outputs": [
        {
          "output_type": "stream",
          "name": "stdout",
          "text": [
            "1\n",
            "2\n"
          ]
        }
      ],
      "execution_count": 25,
      "metadata": {
        "collapsed": false,
        "outputHidden": false,
        "inputHidden": false
      }
    },
    {
      "cell_type": "markdown",
      "source": [
        "## Struct "
      ],
      "metadata": {}
    },
    {
      "cell_type": "code",
      "source": [
        "# unmutable struct can't be updated\n",
        "mutable struct example\n",
        "    key1 :: Int32\n",
        "    key2 :: Float64\n",
        "end\n",
        "a = example(1, 1.1)\n",
        "a.key1"
      ],
      "outputs": [
        {
          "output_type": "execute_result",
          "execution_count": 2,
          "data": {
            "text/plain": [
              "1"
            ]
          },
          "metadata": {}
        }
      ],
      "execution_count": 2,
      "metadata": {
        "collapsed": false,
        "outputHidden": false,
        "inputHidden": false
      }
    },
    {
      "cell_type": "markdown",
      "source": [
        "## Tuple"
      ],
      "metadata": {}
    },
    {
      "cell_type": "code",
      "source": [
        "# Tuple can't be updated\n",
        "a = (1, 2, (3, 4), 5)\n",
        "b = (1,)\n",
        "c = (a=1, b=2)\n",
        "println(a[1])\n",
        "println(c.b)"
      ],
      "outputs": [
        {
          "output_type": "stream",
          "name": "stdout",
          "text": [
            "1\n",
            "2\n"
          ]
        }
      ],
      "execution_count": 3,
      "metadata": {
        "collapsed": false,
        "outputHidden": false,
        "inputHidden": false
      }
    },
    {
      "cell_type": "code",
      "source": [
        "# Pair can't be updated\n",
        "println(Pair(1, 1.1))\n",
        "d = 1=>1.2\n",
        "println(d.first)\n",
        "println(d.second)"
      ],
      "outputs": [
        {
          "output_type": "stream",
          "name": "stdout",
          "text": [
            "1 => 1.1\n",
            "1\n",
            "1.2\n"
          ]
        }
      ],
      "execution_count": 4,
      "metadata": {
        "collapsed": false,
        "outputHidden": false,
        "inputHidden": false
      }
    },
    {
      "cell_type": "code",
      "source": [
        "# Dict\n",
        "e = Dict(1 => 2, 3 => 4)\n",
        "println(e[1])\n",
        "println(length(e))\n",
        "println(keys(e))\n",
        "println(values(e))\n",
        "println(collect(values(e)))"
      ],
      "outputs": [
        {
          "output_type": "stream",
          "name": "stdout",
          "text": [
            "2\n",
            "2\n",
            "[3, 1]\n",
            "[4, 2]\n",
            "[4, 2]\n"
          ]
        }
      ],
      "execution_count": 6,
      "metadata": {
        "collapsed": false,
        "outputHidden": false,
        "inputHidden": false
      }
    },
    {
      "cell_type": "markdown",
      "source": [
        "## Function"
      ],
      "metadata": {}
    },
    {
      "cell_type": "code",
      "source": [
        "function example(a::Real, b::Real, c::Real)\n",
        "    return a+b+c\n",
        "end\n",
        "example2(a, b, c) = a+b+c"
      ],
      "outputs": [
        {
          "output_type": "execute_result",
          "execution_count": 7,
          "data": {
            "text/plain": [
              "example2 (generic function with 1 method)"
            ]
          },
          "metadata": {}
        }
      ],
      "execution_count": 7,
      "metadata": {
        "collapsed": false,
        "outputHidden": false,
        "inputHidden": false
      }
    },
    {
      "cell_type": "code",
      "source": [
        "# Varargs\n",
        "function example3(a, b, c...)\n",
        "    for d in c\n",
        "        a +=d\n",
        "    end\n",
        "    return a+b\n",
        "end\n",
        "example3(1, 2, 3, 4, 5)"
      ],
      "outputs": [
        {
          "output_type": "execute_result",
          "execution_count": 8,
          "data": {
            "text/plain": [
              "15"
            ]
          },
          "metadata": {}
        }
      ],
      "execution_count": 8,
      "metadata": {
        "collapsed": false,
        "outputHidden": false,
        "inputHidden": false
      }
    },
    {
      "cell_type": "code",
      "source": [
        "function example4(f1::Function, f2::Function)\n",
        "    return f1(1, 2, 3) == f2(1, 2, 3)\n",
        "end\n",
        "example4(example, example2)"
      ],
      "outputs": [
        {
          "output_type": "execute_result",
          "execution_count": 9,
          "data": {
            "text/plain": [
              "true"
            ]
          },
          "metadata": {}
        }
      ],
      "execution_count": 9,
      "metadata": {
        "collapsed": false,
        "outputHidden": false,
        "inputHidden": false
      }
    },
    {
      "cell_type": "code",
      "source": [
        "# lambda function\n",
        "example5 = (x, y, z) -> x+y+z\n",
        "example5(1, 2, 3)"
      ],
      "outputs": [
        {
          "output_type": "execute_result",
          "execution_count": 10,
          "data": {
            "text/plain": [
              "6"
            ]
          },
          "metadata": {}
        }
      ],
      "execution_count": 10,
      "metadata": {
        "collapsed": false,
        "outputHidden": false,
        "inputHidden": false
      }
    },
    {
      "cell_type": "code",
      "source": [
        "# function using do block\n",
        "function example6(f::Function, a)\n",
        "    return f(a)\n",
        "end\n",
        "example6(10) do x\n",
        "    x^2+2\n",
        "end"
      ],
      "outputs": [
        {
          "output_type": "execute_result",
          "execution_count": 11,
          "data": {
            "text/plain": [
              "102"
            ]
          },
          "metadata": {}
        }
      ],
      "execution_count": 11,
      "metadata": {
        "collapsed": false,
        "outputHidden": false,
        "inputHidden": false
      }
    },
    {
      "cell_type": "markdown",
      "source": [
        "## Multi-dimensional Array"
      ],
      "metadata": {}
    },
    {
      "cell_type": "code",
      "source": [
        "# Vector <=> Array{T, 1}\n",
        "# Matrix <=> Array{T, 2}\n",
        "# Array without initialization\n",
        "A = Array{Float64, 2}(undef, 2, 3)\n",
        "B = Array{Int32}(undef, 2, 3)\n",
        "println(A)\n",
        "println(B)"
      ],
      "outputs": [
        {
          "output_type": "stream",
          "name": "stdout",
          "text": [
            "[0.0 2.261136819e-314 5.0e-324; 5.0e-324 5.0e-323 2.2611368195e-314]\n",
            "Int32[188902592 305716544 247298400; 1 1 1]\n"
          ]
        }
      ],
      "execution_count": 1,
      "metadata": {
        "collapsed": false,
        "outputHidden": false,
        "inputHidden": false
      }
    },
    {
      "cell_type": "code",
      "source": [
        "C = [ \n",
        "    1 2 3;\n",
        "    4 5 6;\n",
        "    7 8 9;]\n",
        "println(C)"
      ],
      "outputs": [
        {
          "output_type": "stream",
          "name": "stdout",
          "text": [
            "[1 2 3; 4 5 6; 7 8 9]\n"
          ]
        }
      ],
      "execution_count": 3,
      "metadata": {
        "collapsed": false,
        "outputHidden": false,
        "inputHidden": false
      }
    },
    {
      "cell_type": "code",
      "source": [
        "# Array constructor\n",
        "println(zeros(Int32, 2, 2))\n",
        "println(ones(Int32, 1, 2))\n",
        "println(trues(2, 3))\n",
        "println(falses(3, 2))\n",
        "println(rand(Float32, 2, 2)) # uniform distribution\n",
        "println(randn(Float32, 2, 2)) # normal distribution\n",
        "println(1:2:5)\n",
        "println(range(1; length=3, step=4))\n",
        "println(range(1; stop=4))"
      ],
      "outputs": [
        {
          "output_type": "stream",
          "name": "stdout",
          "text": [
            "Int32[0 0; 0 0]\n",
            "Int32[1 1]\n",
            "Bool[1 1 1; 1 1 1]\n",
            "Bool[0 0; 0 0; 0 0]\n",
            "Float32[0.24061584 0.29888952; 0.32763278 0.8929697]\n",
            "Float32[-0.35254535 -1.0347719; 0.45403045 -1.494511]\n",
            "1:2:5\n",
            "1:4:9\n",
            "1:4\n"
          ]
        }
      ],
      "execution_count": 5,
      "metadata": {
        "collapsed": false,
        "outputHidden": false,
        "inputHidden": false
      }
    },
    {
      "cell_type": "code",
      "source": [
        "# Comprehensions (recommanded)\n",
        "[x^2+y^3 for x=1:3, y=2:4]"
      ],
      "outputs": [
        {
          "output_type": "execute_result",
          "execution_count": 6,
          "data": {
            "text/plain": [
              "3×3 Array{Int64,2}:\n",
              "  9  28  65\n",
              " 12  31  68\n",
              " 17  36  73"
            ]
          },
          "metadata": {}
        }
      ],
      "execution_count": 6,
      "metadata": {
        "collapsed": false,
        "outputHidden": false,
        "inputHidden": false
      }
    },
    {
      "cell_type": "code",
      "source": [],
      "outputs": [],
      "execution_count": null,
      "metadata": {
        "collapsed": false,
        "outputHidden": false,
        "inputHidden": false
      }
    }
  ],
  "metadata": {
    "kernelspec": {
      "name": "julia-1.2",
      "language": "julia",
      "display_name": "Julia 1.2.0"
    },
    "language_info": {
      "file_extension": ".jl",
      "name": "julia",
      "mimetype": "application/julia",
      "version": "1.2.0"
    },
    "kernel_info": {
      "name": "julia-1.2"
    },
    "nteract": {
      "version": "0.15.0"
    }
  },
  "nbformat": 4,
  "nbformat_minor": 0
}