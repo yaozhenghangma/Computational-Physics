{
 "cells": [
  {
   "cell_type": "markdown",
   "metadata": {},
   "source": [
    "## Random Number in Julia\n",
    "\n",
    "### Random Package \n",
    "\n",
    "The basic random package in Julia is called Random"
   ]
  },
  {
   "cell_type": "code",
   "execution_count": 1,
   "metadata": {},
   "outputs": [],
   "source": [
    "# use random package\n",
    "using Random"
   ]
  },
  {
   "cell_type": "markdown",
   "metadata": {},
   "source": [
    "### Random Generators\n",
    "\n",
    "#### Random.seed!\n",
    "\n",
    "seed!(\\[rng=GLOBAL_RNG\\], seed)\n",
    "\n",
    "seed!(\\[rng=GLOBAL_RNG\\])\n",
    "\n",
    "Reseed the random number generator: rng will give a reproducible sequence of numbers if and only if a seed is provided.\n",
    "\n",
    "#### Random.RandomDevice\n",
    "\n",
    "RandomDevice()\n",
    "\n",
    "Create a RandomDevice RNG object. Two such objects will always generate different streams of random numbers. The entropy is obtained from the operating system."
   ]
  },
  {
   "cell_type": "code",
   "execution_count": 16,
   "metadata": {},
   "outputs": [
    {
     "name": "stdout",
     "output_type": "stream",
     "text": [
      "[1.1902678809862768, 2.04817970778924, 1.142650902867199]\n",
      "[1.1902678809862768, 2.04817970778924, 1.142650902867199]\n",
      "[0.7769673940051263, 0.432520182179866, -1.3042242878572265]\n"
     ]
    }
   ],
   "source": [
    "# spread random seed\n",
    "Random.seed!(123)\n",
    "println(randn(3))\n",
    "\n",
    "# check whether the same seeds produce the same random numbers\n",
    "Random.seed!(123)\n",
    "println(randn(3))\n",
    "\n",
    "# produce random number\n",
    "rng = RandomDevice()\n",
    "println(randn(rng, 3))"
   ]
  },
  {
   "cell_type": "markdown",
   "metadata": {},
   "source": [
    "### Random Generation Function\n",
    "\n",
    "#### Base.rand\n",
    "\n",
    "rand(\\[rng=GLOBAL_RNG\\], \\[S\\], \\[dims...\\])\n",
    "\n",
    "Pick a random element or array of random elements from the set of values specified by S; S can be\n",
    "\n",
    "* an indexable collection (for example 1:9 or ('x', \"y\", :z))\n",
    "* an AbstractDict or AbstractSet object,\n",
    "* a string (considered as a collection of characters), \n",
    "* a type"
   ]
  },
  {
   "cell_type": "code",
   "execution_count": 8,
   "metadata": {},
   "outputs": [
    {
     "name": "stdout",
     "output_type": "stream",
     "text": [
      "[9, 8, 8]\n",
      "Pair{Int64,Int64}[1 => 2, 1 => 2, 1 => 2]\n",
      "['c', 'a', 'a']\n",
      "[0.8070322449194842, 0.890079275125659, 0.7334639385251374]\n"
     ]
    }
   ],
   "source": [
    "# an indexable collection\n",
    "println(rand(1:9, 3))\n",
    "\n",
    "# an AbstractDict object\n",
    "println(rand(Dict(1=>2, 3=>4), 3))\n",
    "\n",
    "# a string\n",
    "println(rand(\"abcde\", 3))\n",
    "\n",
    "# a type\n",
    "println(rand(Float64, 3))"
   ]
  },
  {
   "cell_type": "markdown",
   "metadata": {},
   "source": [
    "#### Random.rand!\n",
    "\n",
    "rand!(\\[rng=GLOBAL_RNG\\], A, \\[S=eltype(A)\\])\n",
    "\n",
    "Populate the array A with random values. If S is specified, the values are picked randomly from S. "
   ]
  },
  {
   "cell_type": "code",
   "execution_count": 12,
   "metadata": {},
   "outputs": [
    {
     "name": "stdout",
     "output_type": "stream",
     "text": [
      "[1, 2, 3]\n",
      "[5, 6, 6]\n"
     ]
    }
   ],
   "source": [
    "# original A\n",
    "A = [1, 2, 3]\n",
    "println(A)\n",
    "\n",
    "# change A randomly\n",
    "rand!(A, 4:9)\n",
    "println(A)"
   ]
  },
  {
   "cell_type": "markdown",
   "metadata": {},
   "source": [
    "### Random Number with Specific Distribution\n",
    "\n",
    "#### Normal Distribution: Base.randn and Random.randn!\n",
    "\n",
    "randn(\\[rng=GLOBAL_RNG\\], \\[T=Float64\\], \\[dims...\\])\n",
    "\n",
    "randn!(\\[rng=GLOBAL_RNG\\], A::AbstractArray)\n",
    "\n",
    "Generate a normally-distributed random number of type T with mean 0 and standard deviation 1.\n",
    "\n",
    "#### Exponential Distribution: Random.randexp and Random.randexp!\n",
    "\n",
    "randexp(\\[rng=GLOBAL_RNG\\], \\[T=Float64\\], \\[dims...\\])\n",
    "\n",
    "randexp!(\\[rng=GLOBAL_RNG\\], A::AbstractArray)\n",
    "\n",
    "Generate a random number of type T according to the exponential distribution with scale 1.\n",
    "\n",
    "#### Random String: Random.randstring\n",
    "\n",
    "randstring(\\[rng=GLOBAL_RNG\\], \\[chars\\], \\[len=8\\])\n",
    "\n",
    "Create a random string of length len, consisting of characters from chars, which defaults to the set of upper- and lower-case letters and the digits 0-9.\n",
    "\n",
    "#### Random Boolean values: Random.bitrand\n",
    "\n",
    "bitrand(\\[rng=GLOBAL_RNG\\], \\[dims...\\])"
   ]
  },
  {
   "cell_type": "code",
   "execution_count": 14,
   "metadata": {},
   "outputs": [
    {
     "name": "stdout",
     "output_type": "stream",
     "text": [
      "[0.5305117827124577, -2.1355809012107856, 0.7015005267754282]\n",
      "[1.1121384728569885, 1.2005684230674265, 0.6862264522863871]\n",
      "ccb\n",
      "Bool[1, 1, 1]\n"
     ]
    }
   ],
   "source": [
    "# normal distribution \n",
    "println(randn(3))\n",
    "\n",
    "# exponential distribution\n",
    "println(randexp(3))\n",
    "\n",
    "# random string\n",
    "println(randstring('a':'f', 3))\n",
    "\n",
    "# random boolean value\n",
    "println(bitrand(3))"
   ]
  }
 ],
 "metadata": {
  "kernelspec": {
   "display_name": "Julia 1.2.0",
   "language": "julia",
   "name": "julia-1.2"
  },
  "language_info": {
   "file_extension": ".jl",
   "mimetype": "application/julia",
   "name": "julia",
   "version": "1.2.0"
  }
 },
 "nbformat": 4,
 "nbformat_minor": 4
}
