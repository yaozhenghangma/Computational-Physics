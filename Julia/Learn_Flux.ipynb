{
 "cells": [
  {
   "cell_type": "code",
   "execution_count": 2,
   "metadata": {
    "inputHidden": false,
    "outputHidden": false
   },
   "outputs": [],
   "source": [
    "using Flux;"
   ]
  },
  {
   "cell_type": "code",
   "execution_count": 7,
   "metadata": {},
   "outputs": [
    {
     "data": {
      "text/plain": [
       "(-1.0 (tracked), 1.2246467991473532e-16 (tracked))"
      ]
     },
     "execution_count": 7,
     "metadata": {},
     "output_type": "execute_result"
    }
   ],
   "source": [
    "# Auto gradient\n",
    "f(x, y) = sin(x)*y\n",
    "dfdx(x, y) = Tracker.gradient(f, x, y)\n",
    "dfdx(π, 1)"
   ]
  },
  {
   "cell_type": "code",
   "execution_count": 8,
   "metadata": {},
   "outputs": [
    {
     "data": {
      "text/plain": [
       "4.0 (tracked)"
      ]
     },
     "execution_count": 8,
     "metadata": {},
     "output_type": "execute_result"
    }
   ],
   "source": [
    "W = param(2)\n",
    "b = param(3)\n",
    "f(x) = W*x + b\n",
    "grads = Tracker.gradient(() -> f(4), params(W, b))\n",
    "grads[W]"
   ]
  },
  {
   "cell_type": "code",
   "execution_count": 9,
   "metadata": {},
   "outputs": [
    {
     "data": {
      "text/plain": [
       "0.9040677281762922"
      ]
     },
     "execution_count": 9,
     "metadata": {},
     "output_type": "execute_result"
    }
   ],
   "source": [
    "W = rand(2, 5)\n",
    "b = rand(2)\n",
    "\n",
    "predict(x) = W*x .+ b\n",
    "\n",
    "function loss(x, y)\n",
    "    ŷ = predict(x)\n",
    "    sum((y .- ŷ).^2)\n",
    "end\n",
    "\n",
    "x, y = rand(5), rand(2)\n",
    "loss(x, y)"
   ]
  },
  {
   "cell_type": "code",
   "execution_count": 16,
   "metadata": {},
   "outputs": [
    {
     "data": {
      "text/plain": [
       "Tracked 2-element Array{Float64,1}:\n",
       " 1.624279689103258 \n",
       " 1.4367515244189724"
      ]
     },
     "execution_count": 16,
     "metadata": {},
     "output_type": "execute_result"
    }
   ],
   "source": [
    "W1 = param(rand(3, 5))\n",
    "b1 = param(rand(3))\n",
    "layer1(x) = W1*x .+ b1\n",
    "\n",
    "W2 = param(rand(2, 3))\n",
    "b2 = param(rand(2))\n",
    "layer2(x) = W2*x .+ b2\n",
    "\n",
    "model(x) = layer2(σ.(layer1(x)))\n",
    "\n",
    "model(rand(5))"
   ]
  },
  {
   "cell_type": "code",
   "execution_count": 17,
   "metadata": {},
   "outputs": [
    {
     "data": {
      "text/plain": [
       "Tracked 2-element Array{Float32,1}:\n",
       " 0.36676747f0\n",
       " 0.6332325f0 "
      ]
     },
     "execution_count": 17,
     "metadata": {},
     "output_type": "execute_result"
    }
   ],
   "source": [
    "model2 = Chain(\n",
    "    Dense(10, 5, σ),\n",
    "    Dense(5, 2),\n",
    "    softmax)\n",
    "model2(rand(10))"
   ]
  },
  {
   "cell_type": "code",
   "execution_count": 18,
   "metadata": {},
   "outputs": [
    {
     "data": {
      "text/plain": [
       "Tracked 2-element Array{Float32,1}:\n",
       " 0.83349425f0\n",
       " 0.16650575f0"
      ]
     },
     "execution_count": 18,
     "metadata": {},
     "output_type": "execute_result"
    }
   ],
   "source": [
    "model3 = softmax ∘ Dense(5, 2) ∘ Dense(10, 5, σ)\n",
    "model3(rand(10))"
   ]
  },
  {
   "cell_type": "code",
   "execution_count": 19,
   "metadata": {},
   "outputs": [
    {
     "data": {
      "text/plain": [
       "loss (generic function with 1 method)"
      ]
     },
     "execution_count": 19,
     "metadata": {},
     "output_type": "execute_result"
    }
   ],
   "source": [
    "m = Dense(10, 5)\n",
    "loss(x, y) = crossentropy(softmax(m(x)), y)"
   ]
  },
  {
   "cell_type": "code",
   "execution_count": 24,
   "metadata": {},
   "outputs": [
    {
     "data": {
      "text/plain": [
       "loss (generic function with 1 method)"
      ]
     },
     "execution_count": 24,
     "metadata": {},
     "output_type": "execute_result"
    }
   ],
   "source": [
    "penalty() = norm(m.W) + norm(m.b)\n",
    "loss(x, y) = crossentropy(softmax(m(x)), y) + penalty()"
   ]
  },
  {
   "cell_type": "code",
   "execution_count": 21,
   "metadata": {},
   "outputs": [
    {
     "data": {
      "text/plain": [
       "Params([Float32[-0.5334747 -0.5934779 … 0.3695907 0.19064318; -0.10948423 -0.451957 … 0.20614053 -0.32669947; … ; 0.52324706 0.44161347 … -0.6187185 -0.24979565; 0.63063926 0.41171166 … -0.027517663 0.6287039] (tracked), Float32[0.0, 0.0, 0.0, 0.0, 0.0] (tracked)])"
      ]
     },
     "execution_count": 21,
     "metadata": {},
     "output_type": "execute_result"
    }
   ],
   "source": [
    "params(m)"
   ]
  },
  {
   "cell_type": "code",
   "execution_count": 31,
   "metadata": {},
   "outputs": [
    {
     "ename": "UndefVarError",
     "evalue": "UndefVarError: norm not defined",
     "output_type": "error",
     "traceback": [
      "UndefVarError: norm not defined",
      "",
      "Stacktrace:",
      " [1] top-level scope at In[31]:2"
     ]
    }
   ],
   "source": [
    "using Flux: crossentropy\n",
    "m = Chain(\n",
    "  Dense(28^2, 128, relu),\n",
    "  Dense(128, 32, relu),\n",
    "  Dense(32, 10), softmax)\n",
    "\n",
    "loss(x, y) = crossentropy(m(x), y) + sum(norm, params(m))\n",
    "\n",
    "loss(rand(28^2), rand(10))"
   ]
  },
  {
   "cell_type": "code",
   "execution_count": 32,
   "metadata": {},
   "outputs": [
    {
     "data": {
      "text/plain": [
       "Conv((2, 2), 1=>16, relu)"
      ]
     },
     "execution_count": 32,
     "metadata": {},
     "output_type": "execute_result"
    }
   ],
   "source": [
    "conv_model = Conv((2, 2), 1=>16, relu)"
   ]
  },
  {
   "cell_type": "code",
   "execution_count": 36,
   "metadata": {},
   "outputs": [
    {
     "data": {
      "text/plain": [
       "MeanPool((2, 2), pad = (0, 0, 0, 0), stride = (2, 2))"
      ]
     },
     "execution_count": 36,
     "metadata": {},
     "output_type": "execute_result"
    }
   ],
   "source": [
    "MaxPool((2,2))\n",
    "MeanPool((2,2))"
   ]
  },
  {
   "cell_type": "code",
   "execution_count": 2,
   "metadata": {},
   "outputs": [
    {
     "data": {
      "text/plain": [
       "Grads(...)\n"
      ]
     },
     "execution_count": 2,
     "metadata": {},
     "output_type": "execute_result"
    }
   ],
   "source": [
    "using Flux\n",
    "\n",
    "W = param(rand(2, 5))\n",
    "b = param(rand(2))\n",
    "\n",
    "predict(x) = W*x .+b\n",
    "loss(x, y) = sum((predict(x) .- y).^2)\n",
    "\n",
    "x, y = rand(5), rand(2)\n",
    "l = loss(x, y)\n",
    "\n",
    "θ = params([W, b])\n",
    "grads = Tracker.gradient(() -> loss(x, y), θ)"
   ]
  },
  {
   "cell_type": "code",
   "execution_count": 5,
   "metadata": {},
   "outputs": [
    {
     "ename": "KeyError",
     "evalue": "KeyError: key Tracker.Tracked{Array{Float64,2}}(0x00000000, Tracker.Call{Nothing,Tuple{}}(nothing, ()), true, [1.4012076832161315 1.192089660029034 0.1363261568854735 0.2043100244080522 0.573658507557304; 1.6535937754249455 1.4068093296833533 0.16088127916627476 0.2411104282861417 0.6769861089678337]) not found",
     "output_type": "error",
     "traceback": [
      "KeyError: key Tracker.Tracked{Array{Float64,2}}(0x00000000, Tracker.Call{Nothing,Tuple{}}(nothing, ()), true, [1.4012076832161315 1.192089660029034 0.1363261568854735 0.2043100244080522 0.573658507557304; 1.6535937754249455 1.4068093296833533 0.16088127916627476 0.2411104282861417 0.6769861089678337]) not found",
      "",
      "Stacktrace:",
      " [1] getindex at ./abstractdict.jl:599 [inlined]",
      " [2] getindex at /Users/mayaozhengxing/.juliapro/JuliaPro_v1.2.0-1/packages/Tracker/SAr25/src/params.jl:39 [inlined]",
      " [3] getindex(::Tracker.Grads, ::TrackedArray{…,Array{Float64,2}}) at /Users/mayaozhengxing/.juliapro/JuliaPro_v1.2.0-1/packages/Tracker/SAr25/src/params.jl:43",
      " [4] top-level scope at ./In[5]:4"
     ]
    }
   ],
   "source": [
    "η = 0.1\n",
    "opt = Descent(η)\n",
    "for p in (W, b)\n",
    "    Tracker.update!(opt, p, grads[p])\n",
    "end"
   ]
  },
  {
   "cell_type": "code",
   "execution_count": 8,
   "metadata": {},
   "outputs": [
    {
     "name": "stdout",
     "output_type": "stream",
     "text": [
      "hello\n",
      "hello\n"
     ]
    },
    {
     "name": "stderr",
     "output_type": "stream",
     "text": [
      "┌ Info: Epoch 1\n",
      "└ @ Main /Users/mayaozhengxing/.juliapro/JuliaPro_v1.2.0-1/packages/Flux/dkJUV/src/optimise/train.jl:105\n",
      "┌ Info: Epoch 2\n",
      "└ @ Main /Users/mayaozhengxing/.juliapro/JuliaPro_v1.2.0-1/packages/Flux/dkJUV/src/optimise/train.jl:105\n"
     ]
    }
   ],
   "source": [
    "using Flux: @epochs\n",
    "@epochs 2 println(\"hello\")"
   ]
  },
  {
   "cell_type": "code",
   "execution_count": null,
   "metadata": {},
   "outputs": [],
   "source": []
  }
 ],
 "metadata": {
  "kernel_info": {
   "name": "python3"
  },
  "kernelspec": {
   "display_name": "Julia 1.2.0",
   "language": "julia",
   "name": "julia-1.2"
  },
  "language_info": {
   "file_extension": ".jl",
   "mimetype": "application/julia",
   "name": "julia",
   "version": "1.2.0"
  },
  "nteract": {
   "version": "0.15.0"
  }
 },
 "nbformat": 4,
 "nbformat_minor": 1
}
