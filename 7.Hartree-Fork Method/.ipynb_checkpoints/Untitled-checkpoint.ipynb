{
 "cells": [
  {
   "cell_type": "markdown",
   "id": "8316f023",
   "metadata": {},
   "source": [
    "# Hartree-Fock Method"
   ]
  },
  {
   "cell_type": "markdown",
   "id": "9f10a1a6",
   "metadata": {},
   "source": [
    "## He Atom"
   ]
  },
  {
   "cell_type": "code",
   "execution_count": null,
   "id": "d4c09e73",
   "metadata": {},
   "outputs": [],
   "source": [
    "import numpy as np\n",
    "import matplotlib.pyplot as plt\n",
    "\n",
    "def Overlap(basis):\n",
    "    overlap = np.zeros((len(basis), len(basis)), dtype=np.float64)\n",
    "    for i, ai in enumerate(basis):\n",
    "        for j, aj in enumerate(basis):\n",
    "            overlap[i, j] = (np.pi/(ai+aj))**(3.0/2.0)\n",
    "    return overlap\n",
    "\n",
    "def Hamiltonian0(basis):\n",
    "    H0 = np.zeros((len(basis), len(basis)), dtype=np.float64)\n",
    "    for i, ai in enumerate(basis):\n",
    "        for j, aj in enumerate(basis):\n",
    "            H0[i, j] = 3*ai*aj/(ai+aj)*(np.pi/(ai+aj))**(3.0/2.0)\n",
    "            H0[i, j] -= 4*np.pi/(ai+aj)\n",
    "    return H0"
   ]
  }
 ],
 "metadata": {
  "kernelspec": {
   "display_name": "Python 3 (ipykernel)",
   "language": "python",
   "name": "python3"
  },
  "language_info": {
   "codemirror_mode": {
    "name": "ipython",
    "version": 3
   },
   "file_extension": ".py",
   "mimetype": "text/x-python",
   "name": "python",
   "nbconvert_exporter": "python",
   "pygments_lexer": "ipython3",
   "version": "3.8.5"
  }
 },
 "nbformat": 4,
 "nbformat_minor": 5
}
