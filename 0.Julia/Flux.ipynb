{
 "cells": [
  {
   "cell_type": "code",
   "execution_count": null,
   "id": "820612e6-9544-459c-aabd-c87ea39c7d60",
   "metadata": {},
   "outputs": [],
   "source": [
    "using CUDA, Flux, cuDNN\n",
    "using Flux: train!"
   ]
  },
  {
   "cell_type": "code",
   "execution_count": 2,
   "id": "59669c73-19e4-458c-82b6-ff48e4e05222",
   "metadata": {},
   "outputs": [
    {
     "name": "stdout",
     "output_type": "stream",
     "text": [
      "Prepare date"
     ]
    }
   ],
   "source": [
    "f(x) = x^3 + sin(x)^2\n",
    "x_train = (rand(1,2000).+1) |> gpu\n",
    "y_train = f.(x_train) |> gpu\n",
    "x_test = (rand(1,5).+1) |> gpu\n",
    "y_test = f.(x_test) |> gpu\n",
    "print(\"Prepare date\")"
   ]
  },
  {
   "cell_type": "code",
   "execution_count": 3,
   "id": "6353b0ee-85f7-4fbb-816b-628b4146eb5c",
   "metadata": {},
   "outputs": [
    {
     "data": {
      "text/plain": [
       "Chain(\n",
       "  Dense(1 => 10),                       \u001b[90m# 20 parameters\u001b[39m\n",
       "  NNlib.σ,\n",
       "  Dense(10 => 100),                     \u001b[90m# 1_100 parameters\u001b[39m\n",
       "  NNlib.σ,\n",
       "  Dense(100 => 10),                     \u001b[90m# 1_010 parameters\u001b[39m\n",
       "  NNlib.σ,\n",
       "  Dense(10 => 1),                       \u001b[90m# 11 parameters\u001b[39m\n",
       ") \u001b[90m                  # Total: 8 arrays, \u001b[39m2_141 parameters, 1.297 KiB."
      ]
     },
     "execution_count": 3,
     "metadata": {},
     "output_type": "execute_result"
    }
   ],
   "source": [
    "model = Chain(Dense(1, 10), σ, Dense(10, 100), σ, Dense(100, 10), σ, Dense(10, 1)) |> gpu"
   ]
  },
  {
   "cell_type": "code",
   "execution_count": 4,
   "id": "755e2b01-0cf5-4726-9fea-5540cded30c5",
   "metadata": {},
   "outputs": [
    {
     "data": {
      "text/plain": [
       "loss (generic function with 1 method)"
      ]
     },
     "execution_count": 4,
     "metadata": {},
     "output_type": "execute_result"
    }
   ],
   "source": [
    "loss(x, y) = Flux.Losses.mae(model(x), y)"
   ]
  },
  {
   "cell_type": "code",
   "execution_count": 5,
   "id": "24d322c4-4ce0-4de0-93c9-79978f8cd580",
   "metadata": {},
   "outputs": [
    {
     "data": {
      "text/plain": [
       "Descent(0.1)"
      ]
     },
     "execution_count": 5,
     "metadata": {},
     "output_type": "execute_result"
    }
   ],
   "source": [
    "opt = Descent(0.1)"
   ]
  },
  {
   "cell_type": "code",
   "execution_count": 6,
   "id": "2f5d3e6f-a9f8-4868-bd48-220e1953298f",
   "metadata": {},
   "outputs": [
    {
     "name": "stdout",
     "output_type": "stream",
     "text": [
      "Epoch: 1000/20000  \t Loss: 1.711789\n",
      "Epoch: 2000/20000  \t Loss: 0.375945\n",
      "Epoch: 3000/20000  \t Loss: 0.68110204\n",
      "Epoch: 4000/20000  \t Loss: 0.4163496\n",
      "Epoch: 5000/20000  \t Loss: 0.35748342\n",
      "Epoch: 6000/20000  \t Loss: 0.306952\n",
      "Epoch: 7000/20000  \t Loss: 0.24068166\n",
      "Epoch: 8000/20000  \t Loss: 0.23122382\n",
      "Epoch: 9000/20000  \t Loss: 0.20235544\n",
      "Epoch: 10000/20000  \t Loss: 0.18899499\n",
      "Epoch: 11000/20000  \t Loss: 0.06921479\n",
      "Epoch: 12000/20000  \t Loss: 0.061692834\n",
      "Epoch: 13000/20000  \t Loss: 0.054462187\n",
      "Epoch: 14000/20000  \t Loss: 0.046998538\n",
      "Epoch: 15000/20000  \t Loss: 0.038667087\n",
      "Epoch: 16000/20000  \t Loss: 0.028482154\n",
      "Epoch: 17000/20000  \t Loss: 0.019433517\n",
      "Epoch: 18000/20000  \t Loss: 0.016508557\n",
      "Epoch: 19000/20000  \t Loss: 0.022179957\n",
      "Epoch: 20000/20000  \t Loss: 0.022598846\n"
     ]
    }
   ],
   "source": [
    "data = [(x_train, y_train)]\n",
    "for epoch in 1:10000\n",
    "    train!(loss, Flux.params(model), data, opt)\n",
    "    if epoch % 1000 == 0\n",
    "        print(\"Epoch: \", epoch, \"/20000  \\t Loss: \", loss(x_train, y_train),\"\\n\")\n",
    "    end\n",
    "end\n",
    "\n",
    "opt = Descent(0.01)\n",
    "for epoch in 1:10000\n",
    "    train!(loss, Flux.params(model), data, opt)\n",
    "    if epoch % 1000 == 0\n",
    "        print(\"Epoch: \", epoch+10000, \"/20000  \\t Loss: \", loss(x_train, y_train),\"\\n\")\n",
    "    end\n",
    "end"
   ]
  },
  {
   "cell_type": "code",
   "execution_count": 7,
   "id": "6bd2a37e-6bf9-4a6c-98b4-15313d3e1baf",
   "metadata": {},
   "outputs": [
    {
     "data": {
      "text/plain": [
       "1×5 CuArray{Float32, 2, CUDA.Mem.DeviceBuffer}:\n",
       " 8.00271  2.84713  4.77441  8.61522  8.54695"
      ]
     },
     "execution_count": 7,
     "metadata": {},
     "output_type": "execute_result"
    }
   ],
   "source": [
    "y_test"
   ]
  },
  {
   "cell_type": "code",
   "execution_count": 8,
   "id": "191f7d96-1ba6-45a6-ab66-6e83262175e9",
   "metadata": {},
   "outputs": [
    {
     "data": {
      "text/plain": [
       "1×5 CuArray{Float32, 2, CUDA.Mem.DeviceBuffer}:\n",
       " 8.00303  2.84115  4.73828  8.56607  8.50933"
      ]
     },
     "execution_count": 8,
     "metadata": {},
     "output_type": "execute_result"
    }
   ],
   "source": [
    "model(x_test)"
   ]
  },
  {
   "cell_type": "code",
   "execution_count": null,
   "id": "7ee81400-e517-4fc1-8427-2d9f0dab8ccf",
   "metadata": {},
   "outputs": [],
   "source": []
  },
  {
   "cell_type": "code",
   "execution_count": 1,
   "id": "fb786408-bcac-4a6e-b064-30e4b7357760",
   "metadata": {},
   "outputs": [],
   "source": [
    "using Statistics\n",
    "using Flux, Flux.Optimise\n",
    "using MLDatasets: MNIST\n",
    "using Images, ImageTransformations\n",
    "using Flux: onehotbatch, onecold\n",
    "using Flux: crossentropy, Momentum\n",
    "using Base.Iterators: partition\n",
    "using CUDA\n",
    "using Plots"
   ]
  },
  {
   "cell_type": "code",
   "execution_count": 2,
   "id": "2caeac53-264a-4036-aa52-a8e13448c3d6",
   "metadata": {},
   "outputs": [
    {
     "data": {
      "image/png": "[encoded data removed]",
      "text/html": [
       "<img src=\"data:image/png;base64,iVBORw0KGgoAAAANSUhEUgAAAHAAAABwCAAAAADji6uXAAAABGdBTUEAALGPC/xhBQAAAAFzUkdCAK7OHOkAAAAgY0hSTQAAeiYAAICEAAD6AAAAgOgAAHUwAADqYAAAOpgAABdwnLpRPAAAAiZJREFUaAW9wTGrlQUABuDHyzt1CcIGISgaIpRoao2ioSCCkgxMysUikNKLQ0EUBKKBEBjSYJRCiAbRUOFSQ0Q/IAhySRouKEFDgthUeBq+4Tt6zr33XJX3eaIsyqIsyqIsyqIsyqIsyqIsyqIsyqIsyqIsyqIsyqIsyqIsyuIOeQRbDSb4A3+aFWVRFmVxi4IDeMzgSdxn9CZOmhVlURZlcQvexQN4w9qewUmzoizKoiw26VEcxcT6XjBflEVZlMWClvEhnnd7oizKoiwWtBNvudE32GlzoizKoiw2sIzTeM7oIl7HEaN/sA+f425ri7Ioi7LYwL14yegy9mIHHjd6D1/jM+uLsiiLstjAHqPLeBZP4BOj3/CdxURZlEVZrOMY3ja4iDO4gPexxegsVg2WsAU/my/KoizKYo7gA6xgYvAljuAh7MbE4BSOGzyIJfyOF80XZVEWZXGT7TiMXQbXcQZHDQ4ZTXAJ/2IJB3EXruBv80VZlEVZ3OQV7DK6hH1GP2C/wVUcNrgfK7iAl60tyqIsymLKMawY/YUf3ehbs7bhU4NzWLW2KIuyKIsp7+C60fd4zawruAfLOIBreAon8JH1RVmURVlMmRj9hIPmexrnsQ0fG5zAIRuLsiiLsphyDhOD87hqvl/wMPZjL37FFxYTZVEWZTHlVYu7huP4CqsWF2VRFmVxG/7Dqs2JsiiLsiiLsiiLsiiLsiiLsiiLsiiLsv8BN2NSQyl2zngAAAAASUVORK5C\">"
      ],
      "text/plain": [
       "28×28 reinterpret(reshape, Gray{Float32}, ::Matrix{Float32}) with eltype Gray{Float32}:\n",
       " Gray{Float32}(0.0)  Gray{Float32}(0.0)  …  Gray{Float32}(0.0)\n",
       " Gray{Float32}(0.0)  Gray{Float32}(0.0)     Gray{Float32}(0.0)\n",
       " Gray{Float32}(0.0)  Gray{Float32}(0.0)     Gray{Float32}(0.0)\n",
       " Gray{Float32}(0.0)  Gray{Float32}(0.0)     Gray{Float32}(0.0)\n",
       " Gray{Float32}(0.0)  Gray{Float32}(0.0)     Gray{Float32}(0.0)\n",
       " Gray{Float32}(0.0)  Gray{Float32}(0.0)  …  Gray{Float32}(0.0)\n",
       " Gray{Float32}(0.0)  Gray{Float32}(0.0)     Gray{Float32}(0.0)\n",
       " Gray{Float32}(0.0)  Gray{Float32}(0.0)     Gray{Float32}(0.0)\n",
       " Gray{Float32}(0.0)  Gray{Float32}(0.0)     Gray{Float32}(0.0)\n",
       " Gray{Float32}(0.0)  Gray{Float32}(0.0)     Gray{Float32}(0.0)\n",
       " Gray{Float32}(0.0)  Gray{Float32}(0.0)  …  Gray{Float32}(0.0)\n",
       " Gray{Float32}(0.0)  Gray{Float32}(0.0)     Gray{Float32}(0.0)\n",
       " Gray{Float32}(0.0)  Gray{Float32}(0.0)     Gray{Float32}(0.0)\n",
       " ⋮                                       ⋱  \n",
       " Gray{Float32}(0.0)  Gray{Float32}(0.0)     Gray{Float32}(0.0)\n",
       " Gray{Float32}(0.0)  Gray{Float32}(0.0)     Gray{Float32}(0.0)\n",
       " Gray{Float32}(0.0)  Gray{Float32}(0.0)     Gray{Float32}(0.0)\n",
       " Gray{Float32}(0.0)  Gray{Float32}(0.0)     Gray{Float32}(0.0)\n",
       " Gray{Float32}(0.0)  Gray{Float32}(0.0)  …  Gray{Float32}(0.0)\n",
       " Gray{Float32}(0.0)  Gray{Float32}(0.0)     Gray{Float32}(0.0)\n",
       " Gray{Float32}(0.0)  Gray{Float32}(0.0)     Gray{Float32}(0.0)\n",
       " Gray{Float32}(0.0)  Gray{Float32}(0.0)     Gray{Float32}(0.0)\n",
       " Gray{Float32}(0.0)  Gray{Float32}(0.0)     Gray{Float32}(0.0)\n",
       " Gray{Float32}(0.0)  Gray{Float32}(0.0)  …  Gray{Float32}(0.0)\n",
       " Gray{Float32}(0.0)  Gray{Float32}(0.0)     Gray{Float32}(0.0)\n",
       " Gray{Float32}(0.0)  Gray{Float32}(0.0)     Gray{Float32}(0.0)"
      ]
     },
     "execution_count": 2,
     "metadata": {},
     "output_type": "execute_result"
    }
   ],
   "source": [
    "dataset = MNIST(split=:train, Tx=Float32)\n",
    "one_image = dataset.features[:,:,rand(1:end)]\n",
    "Images.colorview(Gray, one_image)"
   ]
  },
  {
   "cell_type": "code",
   "execution_count": 3,
   "id": "5ec75cfd-9d45-4ae6-8dc9-c10f4a2fa22a",
   "metadata": {},
   "outputs": [
    {
     "data": {
      "image/png": "[encoded data removed]",
      "text/html": [
       "<img src=\"data:image/png;base64,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\">"
      ],
      "text/plain": [
       "224×224 reinterpret(reshape, Gray{Float32}, ::Matrix{Float32}) with eltype Gray{Float32}:\n",
       " Gray{Float32}(0.0)  Gray{Float32}(0.0)  …  Gray{Float32}(0.0)\n",
       " Gray{Float32}(0.0)  Gray{Float32}(0.0)     Gray{Float32}(0.0)\n",
       " Gray{Float32}(0.0)  Gray{Float32}(0.0)     Gray{Float32}(0.0)\n",
       " Gray{Float32}(0.0)  Gray{Float32}(0.0)     Gray{Float32}(0.0)\n",
       " Gray{Float32}(0.0)  Gray{Float32}(0.0)     Gray{Float32}(0.0)\n",
       " Gray{Float32}(0.0)  Gray{Float32}(0.0)  …  Gray{Float32}(0.0)\n",
       " Gray{Float32}(0.0)  Gray{Float32}(0.0)     Gray{Float32}(0.0)\n",
       " Gray{Float32}(0.0)  Gray{Float32}(0.0)     Gray{Float32}(0.0)\n",
       " Gray{Float32}(0.0)  Gray{Float32}(0.0)     Gray{Float32}(0.0)\n",
       " Gray{Float32}(0.0)  Gray{Float32}(0.0)     Gray{Float32}(0.0)\n",
       " Gray{Float32}(0.0)  Gray{Float32}(0.0)  …  Gray{Float32}(0.0)\n",
       " Gray{Float32}(0.0)  Gray{Float32}(0.0)     Gray{Float32}(0.0)\n",
       " Gray{Float32}(0.0)  Gray{Float32}(0.0)     Gray{Float32}(0.0)\n",
       " ⋮                                       ⋱  \n",
       " Gray{Float32}(0.0)  Gray{Float32}(0.0)     Gray{Float32}(0.0)\n",
       " Gray{Float32}(0.0)  Gray{Float32}(0.0)     Gray{Float32}(0.0)\n",
       " Gray{Float32}(0.0)  Gray{Float32}(0.0)     Gray{Float32}(0.0)\n",
       " Gray{Float32}(0.0)  Gray{Float32}(0.0)  …  Gray{Float32}(0.0)\n",
       " Gray{Float32}(0.0)  Gray{Float32}(0.0)     Gray{Float32}(0.0)\n",
       " Gray{Float32}(0.0)  Gray{Float32}(0.0)     Gray{Float32}(0.0)\n",
       " Gray{Float32}(0.0)  Gray{Float32}(0.0)     Gray{Float32}(0.0)\n",
       " Gray{Float32}(0.0)  Gray{Float32}(0.0)     Gray{Float32}(0.0)\n",
       " Gray{Float32}(0.0)  Gray{Float32}(0.0)  …  Gray{Float32}(0.0)\n",
       " Gray{Float32}(0.0)  Gray{Float32}(0.0)     Gray{Float32}(0.0)\n",
       " Gray{Float32}(0.0)  Gray{Float32}(0.0)     Gray{Float32}(0.0)\n",
       " Gray{Float32}(0.0)  Gray{Float32}(0.0)     Gray{Float32}(0.0)"
      ]
     },
     "execution_count": 3,
     "metadata": {},
     "output_type": "execute_result"
    }
   ],
   "source": [
    "resized_image = imresize(one_image, (224, 224))\n",
    "Images.colorview(Gray, resized_image)"
   ]
  },
  {
   "cell_type": "code",
   "execution_count": 4,
   "id": "1c225a46-4a11-4bc8-a8ba-f743ca38fbb3",
   "metadata": {},
   "outputs": [],
   "source": [
    "train_x = imresize(dataset.features, (224, 224, 60000))\n",
    "labels = onehotbatch(dataset.targets, 0:9)\n",
    "train_x = reshape(train_x, 224, 224, 1, size(train_x, 3))\n",
    "train = ([(train_x[:,:,:,i], labels[:,i]) for i in partition(1:59000, 1000)])\n",
    "valset = 59000:60000\n",
    "valX = train_x[:,:,:,valset] |> gpu\n",
    "valY = labels[:, valset] |> gpu ;"
   ]
  },
  {
   "cell_type": "code",
   "execution_count": 5,
   "id": "ed7fd497-4e58-4f79-a1ba-adfb874c9742",
   "metadata": {},
   "outputs": [
    {
     "data": {
      "text/plain": [
       "Chain(\n",
       "  Conv((11, 11), 1 => 96, relu, pad=(1, 2, 1, 2), stride=4),  \u001b[90m# 11_712 parameters\u001b[39m\n",
       "  MaxPool((3, 3), stride=2),\n",
       "  Conv((5, 5), 96 => 256, relu, pad=2),  \u001b[90m# 614_656 parameters\u001b[39m\n",
       "  MaxPool((3, 3), stride=2),\n",
       "  Conv((3, 3), 256 => 384, relu, pad=1),  \u001b[90m# 885_120 parameters\u001b[39m\n",
       "  Conv((3, 3), 384 => 384, relu, pad=1),  \u001b[90m# 1_327_488 parameters\u001b[39m\n",
       "  Conv((3, 3), 384 => 256, relu, pad=1),  \u001b[90m# 884_992 parameters\u001b[39m\n",
       "  MaxPool((3, 3), stride=2),\n",
       "  var\"#5#6\"(),\n",
       "  Dense(9216 => 4096, relu),            \u001b[90m# 37_752_832 parameters\u001b[39m\n",
       "  Dropout(0.5),\n",
       "  Dense(4096 => 4096, relu),            \u001b[90m# 16_781_312 parameters\u001b[39m\n",
       "  Dropout(0.5),\n",
       "  Dense(4096 => 10),                    \u001b[90m# 40_970 parameters\u001b[39m\n",
       "  NNlib.softmax,\n",
       ") \u001b[90m                  # Total: 16 arrays, \u001b[39m58_299_082 parameters, 4.172 KiB."
      ]
     },
     "execution_count": 5,
     "metadata": {},
     "output_type": "execute_result"
    }
   ],
   "source": [
    "m = Chain(\n",
    "  Conv((11, 11), 1=>96, relu, stride=4, pad=(1,2,1,2)),\n",
    "  MaxPool((3,3), stride=2),\n",
    "  Conv((5,5), 96=>256, relu, stride=1, pad=2),\n",
    "  MaxPool((3,3), stride=2),\n",
    "  Conv((3,3), 256=>384, relu, stride=1, pad=1),\n",
    "  Conv((3,3), 384=>384, relu, stride=1, pad=1),\n",
    "  Conv((3,3), 384=>256, relu, stride=1, pad=1),\n",
    "  MaxPool((3,3), stride=2),\n",
    "  x -> reshape(x, :, size(x, 4)),\n",
    "  Dense(256*6*6=>4096, relu),\n",
    "  Dropout(0.5),\n",
    "  Dense(4096=>4096, relu),\n",
    "  Dropout(0.5),\n",
    "  Dense(4096, 10),\n",
    "  softmax) |> gpu"
   ]
  },
  {
   "cell_type": "code",
   "execution_count": 6,
   "id": "1491c9c8-d120-43e8-923c-8280cc760d8e",
   "metadata": {},
   "outputs": [
    {
     "data": {
      "text/plain": [
       "Momentum(0.01, 0.9, IdDict{Any, Any}())"
      ]
     },
     "execution_count": 6,
     "metadata": {},
     "output_type": "execute_result"
    }
   ],
   "source": [
    "loss(x, y) = sum(crossentropy(m(x), y))\n",
    "accuracy(x, y) = mean(onecold(m(x), 0:9) .== onecold(y, 0:9))\n",
    "opt = Momentum(0.01)"
   ]
  },
  {
   "cell_type": "code",
   "execution_count": 7,
   "id": "68378d24-f929-456a-bbc5-62fb75df7ef3",
   "metadata": {},
   "outputs": [
    {
     "name": "stdout",
     "output_type": "stream",
     "text": [
      "Epoch: 1/10,  accuracy: 0.9560439560439561\n",
      "Epoch: 2/10,  accuracy: 0.9790209790209791\n",
      "Epoch: 3/10,  accuracy: 0.985014985014985\n",
      "Epoch: 4/10,  accuracy: 0.987012987012987\n",
      "Epoch: 5/10,  accuracy: 0.991008991008991\n",
      "Epoch: 6/10,  accuracy: 0.991008991008991\n",
      "Epoch: 7/10,  accuracy: 0.9920079920079921\n",
      "Epoch: 8/10,  accuracy: 0.9920079920079921\n",
      "Epoch: 9/10,  accuracy: 0.993006993006993\n",
      "Epoch: 10/10,  accuracy: 0.993006993006993\n"
     ]
    }
   ],
   "source": [
    "epochs = 10\n",
    "\n",
    "for epoch = 1:epochs\n",
    "  for d in train\n",
    "    gs = gradient(Flux.params(m)) do\n",
    "      l = loss(gpu(d)...)\n",
    "    end\n",
    "    update!(opt, Flux.params(m), gs)\n",
    "  end\n",
    "  print(\"Epoch: \", epoch, \"/10,  accuracy: \", accuracy(valX, valY),\"\\n\")\n",
    "end"
   ]
  },
  {
   "cell_type": "code",
   "execution_count": null,
   "id": "6a223607-74c4-4463-8e93-1b887b95eb52",
   "metadata": {},
   "outputs": [],
   "source": []
  }
 ],
 "metadata": {
  "kernelspec": {
   "display_name": "Julia 1.9.4",
   "language": "julia",
   "name": "julia-1.9"
  },
  "language_info": {
   "file_extension": ".jl",
   "mimetype": "application/julia",
   "name": "julia",
   "version": "1.9.4"
  }
 },
 "nbformat": 4,
 "nbformat_minor": 5
}
