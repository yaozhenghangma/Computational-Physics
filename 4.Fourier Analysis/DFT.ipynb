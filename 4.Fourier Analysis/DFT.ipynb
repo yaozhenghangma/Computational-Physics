{
 "cells": [
  {
   "cell_type": "markdown",
   "metadata": {},
   "source": [
    "## Fourier Transformation\n",
    "\n",
    "### Discrete Fourier Transformation\n",
    "\n",
    "The discrete Fourier transformation formula for N points:\n",
    "\n",
    "$$g(n\\Delta\\omega)=\\frac{1}{\\sqrt{N}}\\sum_{m=0}^{N-1}f(m\\Delta t)e^{-i2\\pi mn/N}$$\n",
    "\n",
    "where \n",
    "\n",
    "$$\\Delta \\omega = \\frac{2\\pi}{T}$$\n",
    "\n",
    "And inverse discrete Fourier transformation formula:\n",
    "\n",
    "$$f(m\\Delta t)=\\frac{1}{\\sqrt{N}} \\sum_{n=0}^{N-1}g(n\\Delta\\omega)e^{i2\\pi mn/N}$$\n",
    "\n",
    "#### Example:\n",
    "\n",
    "Consider the function $f(t)=cos(6\\pi t)$. Sample the function every 0.1 second, for 1 second, and evaluate the spectrum of the sampled data. (Use N=10.)\n",
    "\n",
    "#### Code Example (Julia language):"
   ]
  },
  {
   "cell_type": "code",
   "execution_count": 11,
   "metadata": {},
   "outputs": [
    {
     "name": "stdout",
     "output_type": "stream",
     "text": [
      "ω: 0.0\t g(k) value:-8.777083671441752e-17 + 0.0im\n",
      "ω: 6.283185307179586\t g(k) value:-1.2287917140018454e-16 - 1.316562550716263e-16im\n",
      "ω: 12.566370614359172\t g(k) value:-2.6331251014325257e-17 - 1.5798750608595153e-16im\n",
      "ω: 18.84955592153876\t g(k) value:1.5811388300841895 - 8.777083671441752e-17im\n",
      "ω: 25.132741228718345\t g(k) value:7.021666937153402e-17 - 1.1410208772874278e-16im\n",
      "ω: 31.41592653589793\t g(k) value:1.9309584077171855e-16 - 1.9363366072701915e-16im\n",
      "ω: 37.69911184307752\t g(k) value:4.827396019292963e-16 - 2.720895938146943e-16im\n",
      "ω: 43.982297150257104\t g(k) value:1.5811388300841893 + 2.299595921917739e-15im\n",
      "ω: 50.26548245743669\t g(k) value:-6.187843988366435e-16 - 2.808666774861361e-16im\n",
      "ω: 56.548667764616276\t g(k) value:-1.3692250527449134e-15 - 2.896437611575778e-16im\n"
     ]
    }
   ],
   "source": [
    "# define function to be analysed\n",
    "function func(t::Number)\n",
    "    return cos(6*π*t)\n",
    "end\n",
    "\n",
    "# sample function every second\n",
    "tList = 0.0:0.1:0.9\n",
    "realSpace = func.(tList)\n",
    "kSpace = []\n",
    "for i in 0:9\n",
    "    push!(kSpace, 0.0+0.0im)\n",
    "    for j in 0:9\n",
    "        kSpace[i+1] += realSpace[j+1]*exp(-2*π*i*j/10*(0.0+1.0im))\n",
    "    end\n",
    "    kSpace[i+1] /= sqrt(10)\n",
    "end\n",
    "for i in 1:10\n",
    "    println(\"ω: \", (i-1)*2*π, \"\\t g(k) value:\", kSpace[i])\n",
    "end\n"
   ]
  },
  {
   "cell_type": "code",
   "execution_count": null,
   "metadata": {},
   "outputs": [],
   "source": []
  }
 ],
 "metadata": {
  "kernelspec": {
   "display_name": "Julia 1.2.0",
   "language": "julia",
   "name": "julia-1.2"
  },
  "language_info": {
   "file_extension": ".jl",
   "mimetype": "application/julia",
   "name": "julia",
   "version": "1.2.0"
  }
 },
 "nbformat": 4,
 "nbformat_minor": 4
}
