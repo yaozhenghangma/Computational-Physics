{
 "cells": [
  {
   "cell_type": "markdown",
   "metadata": {},
   "source": [
    "## Monte Carlo Integration\n",
    "\n",
    "### Hit and Miss Method\n",
    "\n",
    "The most direct way to approximate the volume under the curve is to count the number of point under the curve. That is the hit and miss method.\n",
    "\n",
    "$$\\frac{s}{N}=\\frac{\\text {area.under.curve}}{\\text {Total area}}=\\frac{\\int_{a}^{b} f(x) d x}{(M+R)(b-a)}$$\n",
    "\n",
    "#### Example:\n",
    "\n",
    "Consider the integral:\n",
    "\n",
    "$$I = \\int_0^1\\int_0^1e^{x+y}dxdy$$\n",
    "\n",
    "the analytic result is:\n",
    "\n",
    "$$I = (e-1)^2$$\n",
    "\n",
    "#### Code Example (Julia language):"
   ]
  },
  {
   "cell_type": "code",
   "execution_count": 27,
   "metadata": {},
   "outputs": [
    {
     "name": "stdout",
     "output_type": "stream",
     "text": [
      "Approximate result: 3.0590692249572893\n",
      "Analytic result: 2.9524924420125593\n"
     ]
    }
   ],
   "source": [
    "using Random\n",
    "\n",
    "# define function to be integrated\n",
    "function func(x::Float64, y::Float64)\n",
    "    return exp(x + y)\n",
    "end\n",
    "\n",
    "# initialize random generator\n",
    "rng = RandomDevice()\n",
    "\n",
    "# initialize varibales\n",
    "integral = 0.0\n",
    "count = 0\n",
    "volume = 1.0 * ℯ^2\n",
    "N = 500\n",
    "\n",
    "# loop to integrate\n",
    "for i in 1:N\n",
    "    if rand(rng)*ℯ^2 < func(rand(rng), rand(rng))\n",
    "        count+=1\n",
    "    end\n",
    "end\n",
    "\n",
    "# print result\n",
    "println(\"Approximate result: \", count / N * volume)\n",
    "println(\"Analytic result: \", (ℯ-1)^2)"
   ]
  },
  {
   "cell_type": "markdown",
   "metadata": {},
   "source": [
    "### Sample Mean Method\n",
    "\n",
    "Inspired by mean value theorem, we can rewrite integration as:\n",
    "\n",
    "$$I=\\int_{a}^{b} f(x) d x \\approx(b-a)\\langle f\\rangle$$\n",
    "\n",
    "and\n",
    "\n",
    "$$\\quad\\langle f\\rangle=\\frac{1}{N} \\sum_{i=1}^{N} f\\left(x_{i}\\right)$$\n",
    "\n",
    "#### Example:\n",
    "\n",
    "Let's reconsider the problem above.\n",
    "\n",
    "#### Code Example (Julia language):"
   ]
  },
  {
   "cell_type": "code",
   "execution_count": 28,
   "metadata": {},
   "outputs": [
    {
     "name": "stdout",
     "output_type": "stream",
     "text": [
      "Approximate result: 2.97254440044633\n",
      "Approximation error: 0.03793090176400752\n",
      "Analytic result: 2.9524924420125593\n"
     ]
    }
   ],
   "source": [
    "# initialize varibales\n",
    "volume = 1.0*1.0\n",
    "functionValue = 0.0\n",
    "functionSquare = 0.0\n",
    "N = 1000\n",
    "\n",
    "# loop to be integrated\n",
    "for i in 1:N\n",
    "    value = func(rand(rng), rand(rng))\n",
    "    functionValue += value\n",
    "    functionSquare += value^2\n",
    "end\n",
    "\n",
    "# print result\n",
    "println(\"Approximate result: \", functionValue / N * volume)\n",
    "println(\"Approximation error: \", sqrt((functionSquare/N - (functionValue/N)^2) / N))\n",
    "println(\"Analytic result: \", (ℯ-1)^2)"
   ]
  },
  {
   "cell_type": "markdown",
   "metadata": {},
   "source": [
    "### Importance sampling\n",
    "\n",
    "To improve the performance of mean value mtheod, we can rewrite integration as:\n",
    "\n",
    "$$\\quad I=\\int_{G(a)}^{G(b)} \\frac{f\\left(G^{-1}(u)\\right)}{g\\left(G^{-1}(u)\\right)} d u$$\n",
    "\n",
    "where\n",
    "\n",
    "$$x=G^{-1}(u)$$\n",
    "\n",
    "and \n",
    "\n",
    "$$G(x)=\\int_0^xg(x)dx$$\n",
    "\n",
    "#### Example:\n",
    "\n",
    "Let's reconsider problem above.\n",
    "\n",
    "Since $e^{x+y}\\approx (1+x)(1+y)$, the integral can be rewritten as:\n",
    "\n",
    "$$I = \\int_0^1 \\int_0^1 \\frac{e^{x+y}}{(1+x)(1+y)}(1+x)(1+y)dxdy = \\int_0^{3/2} \\int_0^{3/2} \\frac{e^{\\sqrt{1+2x\\prime}-1}}{\\sqrt{1+2x\\prime}} \\frac{e^{\\sqrt{1+2y\\prime}-1}}{\\sqrt{1+2y\\prime}} dx\\prime dy\\prime$$\n",
    "\n",
    "#### Code Example (Julia language):"
   ]
  },
  {
   "cell_type": "code",
   "execution_count": 30,
   "metadata": {},
   "outputs": [
    {
     "name": "stdout",
     "output_type": "stream",
     "text": [
      "Approximate result: 2.963188195110205\n",
      "Approximation error: 0.008023308201279238\n",
      "Analytic result: 2.9524924420125593\n"
     ]
    }
   ],
   "source": [
    "# define function to be integrated\n",
    "function func(x::Float64, y::Float64)\n",
    "    return exp(sqrt(1+2*x)-1) * exp(sqrt(1+2*y)-1) / sqrt(1+2*x) / sqrt(1+2*y)\n",
    "end\n",
    "\n",
    "# define variables\n",
    "volume = 1.5*1.5\n",
    "functionValue = 0.0\n",
    "functionSquare = 0.0\n",
    "N = 500\n",
    "\n",
    "# loop to integrate\n",
    "for i in 1:N\n",
    "    value = func(rand(rng)*1.5, rand(rng)*1.5)\n",
    "    functionValue += value\n",
    "    functionSquare += value^2\n",
    "end\n",
    "\n",
    "# print result\n",
    "println(\"Approximate result: \", functionValue / N * volume)\n",
    "println(\"Approximation error: \", sqrt((functionSquare/N - (functionValue/N)^2) / N))\n",
    "println(\"Analytic result: \", (ℯ-1)^2)"
   ]
  },
  {
   "cell_type": "markdown",
   "metadata": {},
   "source": []
  }
 ],
 "metadata": {
  "kernelspec": {
   "display_name": "Julia 1.2.0",
   "language": "julia",
   "name": "julia-1.2"
  },
  "language_info": {
   "file_extension": ".jl",
   "mimetype": "application/julia",
   "name": "julia",
   "version": "1.2.0"
  }
 },
 "nbformat": 4,
 "nbformat_minor": 4
}
