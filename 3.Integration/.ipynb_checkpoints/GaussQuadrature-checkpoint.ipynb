{
 "cells": [
  {
   "cell_type": "markdown",
   "metadata": {},
   "source": [
    "## Numerical Integration\n",
    "\n",
    "### Gauss Quadrature\n",
    "\n",
    "For integral $I=\\int_{-1}^1 f(x)dx$, we can use a degree $2M-1$ polynomial to approximate $f(x)$. Then the integral can be approximate using $M$ points' value. The $x$ and its weight can be calculate using Golub-Welsch algorithm. \n",
    "\n",
    "Here we are only concerned about using the method. The table of first 5 rows is on the [Wikipedia](https://en.wikipedia.org/wiki/Gaussian_quadrature).\n",
    "\n",
    "#### Example:\n",
    "\n",
    "Calculate $I=\\int_1^3e^xdx$ using 5 points Gauss quadrature method.\n",
    "\n",
    "#### Code Example (Julia language):\n",
    "\n",
    "$$I=\\int_1^3e^xdx=\\int_{-1}^1e^{t+2}d(t+2)=\\int_{-1}^1e^{t+2}dt$$"
   ]
  },
  {
   "cell_type": "code",
   "execution_count": 1,
   "metadata": {},
   "outputs": [
    {
     "name": "stdout",
     "output_type": "stream",
     "text": [
      "Analytical result: 17.367255094728623\n",
      "Approximation result: 17.3672550886343\n"
     ]
    }
   ],
   "source": [
    "# define function to be integrated\n",
    "function func(x::Float64)\n",
    "    return exp(x+2.0)\n",
    "end\n",
    "\n",
    "println(\"Analytical result: \", exp(3.0)-exp(1.0))\n",
    "integral = 0.0\n",
    "integral += func(0.0) * 128/225\n",
    "integral += func(sqrt(5-2*sqrt(10/7))/3) * (322+13*sqrt(70))/900\n",
    "integral += func(-sqrt(5-2*sqrt(10/7))/3) * (322+13*sqrt(70))/900\n",
    "integral += func(sqrt(5+2*sqrt(10/7))/3) * (322-13*sqrt(70))/900\n",
    "integral += func(-sqrt(5+2*sqrt(10/7))/3) * (322-13*sqrt(70))/900\n",
    "println(\"Approximation result: \", integral)"
   ]
  },
  {
   "cell_type": "code",
   "execution_count": null,
   "metadata": {},
   "outputs": [],
   "source": []
  }
 ],
 "metadata": {
  "kernelspec": {
   "display_name": "Julia 1.2.0",
   "language": "julia",
   "name": "julia-1.2"
  },
  "language_info": {
   "file_extension": ".jl",
   "mimetype": "application/julia",
   "name": "julia",
   "version": "1.2.0"
  }
 },
 "nbformat": 4,
 "nbformat_minor": 4
}
