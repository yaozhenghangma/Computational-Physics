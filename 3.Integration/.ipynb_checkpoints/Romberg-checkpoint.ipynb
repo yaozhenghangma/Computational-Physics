{
 "cells": [
  {
   "cell_type": "markdown",
   "metadata": {},
   "source": [
    "## Numerical Integration\n",
    "\n",
    "### Romberg Integration\n",
    "\n",
    "The recursive form is:\n",
    "\n",
    "$$R(n,m)=\\frac{1}{4^m+1}(4^mR(n,m-1)-R(n-1,m-1))$$\n",
    "\n",
    "and\n",
    "\n",
    "$$R(n,0)=\\frac{R(n-1,0)}{2}+h_n\\sum_{k=1}^{2^{n-1}}f(a+(2k-1)h_n)$$\n",
    "\n",
    "where \n",
    "\n",
    "$$R(0,0)=h_1(f(a)+f(b))$$\n",
    "\n",
    "and\n",
    "\n",
    "$$h_n=\\frac{b-a}{2^n}$$\n",
    "\n",
    "#### Example:\n",
    "\n",
    "Calculate the improper integral:\n",
    "\n",
    "$$I=\\int_0^\\infty \\frac{dx}{(1+x)\\sqrt{x}}$$\n",
    "\n",
    "#### Code Example (Julia language):\n",
    "\n",
    "Seperate the integral into two parts:\n",
    "\n",
    "$$I=\\int_0^\\infty \\frac{dx}{(1+x)\\sqrt{x}} = \\int_0^1 \\frac{dx}{(1+x)\\sqrt{x}} + \\int_1^\\infty \\frac{dx}{(1+x)\\sqrt{x}}$$\n",
    "\n",
    "For the former part:\n",
    "\n",
    "$$\\int_0^1 \\frac{dx}{(1+x)\\sqrt{x}}=\\int_0^1 \\frac{2d\\sqrt{x}}{(1+x)} = \\int_0^1 \\frac{2dt}{(1+t^2)}$$\n",
    "\n",
    "For the latter part:\n",
    "\n",
    "$$\\int_1^\\infty \\frac{dx}{(1+x)\\sqrt{x}}=\\int_1^\\infty \\frac{2dt}{(1+t^2)} = \\int_0^1 \\frac{2dy}{y^2+1}$$\n",
    "\n",
    "Thus:\n",
    "\n",
    "$$I=\\int_0^1 \\frac{4dt}{1+t^2}$$"
   ]
  },
  {
   "cell_type": "code",
   "execution_count": 8,
   "metadata": {},
   "outputs": [
    {
     "name": "stdout",
     "output_type": "stream",
     "text": [
      "Remberg Table\n",
      "3.00000\t\n",
      "3.10000\t3.10667\t\n",
      "3.13118\t3.13325\t3.13368\t\n",
      "3.13899\t3.13951\t3.13961\t3.13963\t\n",
      "3.14094\t3.14107\t3.14110\t3.14110\t3.14110\t\n"
     ]
    }
   ],
   "source": [
    "using Printf\n",
    "\n",
    "# define function to be integrated\n",
    "function func(x::Float64)\n",
    "    return 4/(1+x^2)\n",
    "end\n",
    "\n",
    "ϵ = 1e-5  # tolerance\n",
    "a = 0.0\n",
    "b = 1.0\n",
    "h = (b-a)/2\n",
    "\n",
    "previous = [0.0,]\n",
    "new = [0.0,]\n",
    "@printf(\"Remberg Table\\n\")\n",
    "for i in 0:100\n",
    "    if i == 0\n",
    "        new = [h * (func(a)+func(b)), ]\n",
    "        h = b-a\n",
    "    else\n",
    "        new = [previous[1] / 2 + sum([h*func(a+(2*k-1)*h) for k in 1:(2^(i-1))]), ]\n",
    "    end\n",
    "    \n",
    "    for j in 1:1:i\n",
    "        push!(new, new[j]+(new[j]-previous[j])/(4^(j+1)-1))\n",
    "    end\n",
    "    \n",
    "    for j in 1:(i+1)\n",
    "        @printf(\"%.5f\\t\", new[j])\n",
    "    end\n",
    "    @printf(\"\\n\")\n",
    "    \n",
    "    if i>0 && (abs(new[i+1]-new[i])<ϵ || abs(previous[i]-new[i+1])<ϵ)\n",
    "        break\n",
    "    end\n",
    "    \n",
    "    previous = new\n",
    "    h /= 2\n",
    "end"
   ]
  },
  {
   "cell_type": "code",
   "execution_count": null,
   "metadata": {},
   "outputs": [],
   "source": []
  }
 ],
 "metadata": {
  "kernelspec": {
   "display_name": "Julia 1.2.0",
   "language": "julia",
   "name": "julia-1.2"
  },
  "language_info": {
   "file_extension": ".jl",
   "mimetype": "application/julia",
   "name": "julia",
   "version": "1.2.0"
  }
 },
 "nbformat": 4,
 "nbformat_minor": 4
}
