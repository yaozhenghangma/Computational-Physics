{
 "cells": [
  {
   "cell_type": "markdown",
   "metadata": {},
   "source": [
    "# Analysis of 2-pt results\n",
    "\n",
    "Data file __pion_gamma15_p0_t0_1.txt__:\n",
    "* The ﬁrst column: conﬁguration number $i$\n",
    "* The seventh column: time separation $t$\n",
    "* The eighth column: 2-pt results $C_i(t)$\n",
    "\n",
    "Analyze the effective mass $m_i(t)=a_0ln\\frac{C_i(t)}{C_i(t+1)}$, where $a_0=0.197/0.12$."
   ]
  },
  {
   "cell_type": "code",
   "execution_count": 1,
   "metadata": {},
   "outputs": [],
   "source": [
    "using Statistics\n",
    "using CSV\n",
    "using DataFrames\n",
    "using Plots"
   ]
  },
  {
   "cell_type": "code",
   "execution_count": 2,
   "metadata": {},
   "outputs": [
    {
     "data": {
      "text/html": [
       "<table class=\"data-frame\"><thead><tr><th></th><th>Column1</th><th>Column2</th><th>Column3</th><th>Column4</th><th>Column5</th><th>Column6</th><th>Column7</th><th>Column8</th><th>Column9</th></tr><tr><th></th><th>Int64</th><th>Int64</th><th>Int64</th><th>Int64</th><th>Int64</th><th>Int64</th><th>Int64</th><th>Float64</th><th>Float64</th></tr></thead><tbody><p>5 rows × 9 columns</p><tr><th>1</th><td>1005</td><td>0</td><td>0</td><td>0</td><td>100001515</td><td>505050</td><td>0</td><td>0.95366</td><td>0.0</td></tr><tr><th>2</th><td>1005</td><td>0</td><td>0</td><td>0</td><td>100001515</td><td>505050</td><td>1</td><td>0.09861</td><td>0.0</td></tr><tr><th>3</th><td>1005</td><td>0</td><td>0</td><td>0</td><td>100001515</td><td>505050</td><td>2</td><td>0.03787</td><td>0.0</td></tr><tr><th>4</th><td>1005</td><td>0</td><td>0</td><td>0</td><td>100001515</td><td>505050</td><td>3</td><td>0.02357</td><td>0.0</td></tr><tr><th>5</th><td>1005</td><td>0</td><td>0</td><td>0</td><td>100001515</td><td>505050</td><td>4</td><td>0.01742</td><td>0.0</td></tr></tbody></table>"
      ],
      "text/latex": [
       "\\begin{tabular}{r|ccccccccc}\n",
       "\t& Column1 & Column2 & Column3 & Column4 & Column5 & Column6 & Column7 & Column8 & Column9\\\\\n",
       "\t\\hline\n",
       "\t& Int64 & Int64 & Int64 & Int64 & Int64 & Int64 & Int64 & Float64 & Float64\\\\\n",
       "\t\\hline\n",
       "\t1 & 1005 & 0 & 0 & 0 & 100001515 & 505050 & 0 & 0.95366 & 0.0 \\\\\n",
       "\t2 & 1005 & 0 & 0 & 0 & 100001515 & 505050 & 1 & 0.09861 & 0.0 \\\\\n",
       "\t3 & 1005 & 0 & 0 & 0 & 100001515 & 505050 & 2 & 0.03787 & 0.0 \\\\\n",
       "\t4 & 1005 & 0 & 0 & 0 & 100001515 & 505050 & 3 & 0.02357 & 0.0 \\\\\n",
       "\t5 & 1005 & 0 & 0 & 0 & 100001515 & 505050 & 4 & 0.01742 & 0.0 \\\\\n",
       "\\end{tabular}\n"
      ],
      "text/plain": [
       "5×9 DataFrame. Omitted printing of 2 columns\n",
       "│ Row │ Column1 │ Column2 │ Column3 │ Column4 │ Column5   │ Column6 │ Column7 │\n",
       "│     │ \u001b[90mInt64\u001b[39m   │ \u001b[90mInt64\u001b[39m   │ \u001b[90mInt64\u001b[39m   │ \u001b[90mInt64\u001b[39m   │ \u001b[90mInt64\u001b[39m     │ \u001b[90mInt64\u001b[39m   │ \u001b[90mInt64\u001b[39m   │\n",
       "├─────┼─────────┼─────────┼─────────┼─────────┼───────────┼─────────┼─────────┤\n",
       "│ 1   │ 1005    │ 0       │ 0       │ 0       │ 100001515 │ 505050  │ 0       │\n",
       "│ 2   │ 1005    │ 0       │ 0       │ 0       │ 100001515 │ 505050  │ 1       │\n",
       "│ 3   │ 1005    │ 0       │ 0       │ 0       │ 100001515 │ 505050  │ 2       │\n",
       "│ 4   │ 1005    │ 0       │ 0       │ 0       │ 100001515 │ 505050  │ 3       │\n",
       "│ 5   │ 1005    │ 0       │ 0       │ 0       │ 100001515 │ 505050  │ 4       │"
      ]
     },
     "execution_count": 2,
     "metadata": {},
     "output_type": "execute_result"
    }
   ],
   "source": [
    "dt = DataFrame(CSV.File(\"pion_gamma15_p0_t0_1.txt\"; header=false, delim=' ', ignorerepeated=true));\n",
    "first(dt, 5)"
   ]
  },
  {
   "cell_type": "code",
   "execution_count": 3,
   "metadata": {},
   "outputs": [],
   "source": [
    "m = 0.197/0.12*log.(dt[1:end-1, 8]./dt[2:end, 8])\n",
    "deleterows!(dt, size(dt, 1))\n",
    "data = hcat(dt, DataFrame(Column10=m))\n",
    "i = 0\n",
    "temp = groupby(data, :Column1)\n",
    "index = []\n",
    "for g in temp\n",
    "    i += size(g, 1)\n",
    "    if i != size(data, 1)\n",
    "        index = [index..., i]\n",
    "    end\n",
    "end\n",
    "deleterows!(data, index)\n",
    "groupData = groupby(data, :Column7);"
   ]
  },
  {
   "cell_type": "code",
   "execution_count": 18,
   "metadata": {},
   "outputs": [
    {
     "data": {
      "image/png": "[encoded data removed]"
     },
     "execution_count": 18,
     "metadata": {},
     "output_type": "execute_result"
    }
   ],
   "source": [
    "Mean = [mean(g.Column10) for g in groupData]\n",
    "Std = [std(g.Column10) for g in groupData]\n",
    "pyplot()\n",
    "plot(3:25, Mean[3:25], yerr=Std[3:25], seriestype = :scatter, label=false)"
   ]
  },
  {
   "cell_type": "code",
   "execution_count": null,
   "metadata": {},
   "outputs": [],
   "source": []
  }
 ],
 "metadata": {
  "kernelspec": {
   "display_name": "Julia 1.5.0",
   "language": "julia",
   "name": "julia-1.5"
  },
  "language_info": {
   "file_extension": ".jl",
   "mimetype": "application/julia",
   "name": "julia",
   "version": "1.5.0"
  }
 },
 "nbformat": 4,
 "nbformat_minor": 4
}
