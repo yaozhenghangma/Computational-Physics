{
 "cells": [
  {
   "cell_type": "markdown",
   "metadata": {},
   "source": [
    "## Monte Carlo Integration\n",
    "\n",
    "### Hit and Miss Method\n",
    "\n",
    "The most direct way to approximate the volume under the curve is to count the number of point under the curve. That is the hit and miss method.\n",
    "\n",
    "$$\\frac{s}{N}=\\frac{\\text {area.under.curve}}{\\text {Total area}}=\\frac{\\int_{a}^{b} f(x) d x}{(M+R)(b-a)}$$\n",
    "\n",
    "#### Example:\n",
    "\n",
    "Consider the integral:\n",
    "\n",
    "$$I = \\int_0^1e^{x+y}dx$$\n",
    "\n",
    "the analytic result is:\n",
    "\n",
    "$$I = (e-1)^2$$\n",
    "\n",
    "#### Code Example (Julia language):"
   ]
  },
  {
   "cell_type": "code",
   "execution_count": 15,
   "metadata": {},
   "outputs": [
    {
     "name": "stdout",
     "output_type": "stream",
     "text": [
      "Approximate result: 2.9334552712754682\n",
      "Analytic result: 2.9524924420125593\n"
     ]
    }
   ],
   "source": [
    "using Random\n",
    "\n",
    "# define function to integrate\n",
    "function func(x::Float64, y::Float64)\n",
    "    return exp(x + y)\n",
    "end\n",
    "\n",
    "# initialize random generator\n",
    "rng = RandomDevice()\n",
    "\n",
    "# initialize varibales\n",
    "integral = 0.0\n",
    "count = 0\n",
    "volume = 1.0 * ℯ^2\n",
    "N = 1000\n",
    "\n",
    "# loop to integrate\n",
    "for i in 1:N\n",
    "    if rand(rng)*ℯ^2 < func(rand(rng), rand(rng))\n",
    "        count+=1\n",
    "    end\n",
    "end\n",
    "\n",
    "# print result\n",
    "println(\"Approximate result: \", count / N * volume)\n",
    "println(\"Analytic result: \", (ℯ-1)^2)"
   ]
  },
  {
   "cell_type": "code",
   "execution_count": null,
   "metadata": {},
   "outputs": [],
   "source": []
  }
 ],
 "metadata": {
  "kernelspec": {
   "display_name": "Julia 1.2.0",
   "language": "julia",
   "name": "julia-1.2"
  },
  "language_info": {
   "file_extension": ".jl",
   "mimetype": "application/julia",
   "name": "julia",
   "version": "1.2.0"
  }
 },
 "nbformat": 4,
 "nbformat_minor": 4
}
