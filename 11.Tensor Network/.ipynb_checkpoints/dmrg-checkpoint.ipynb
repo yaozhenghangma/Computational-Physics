{
 "cells": [
  {
   "cell_type": "markdown",
   "metadata": {},
   "source": [
    "# Density Matrix Renormalization Group"
   ]
  },
  {
   "cell_type": "markdown",
   "metadata": {},
   "source": [
    "## DMRG function from ITensors"
   ]
  },
  {
   "cell_type": "code",
   "execution_count": 1,
   "metadata": {},
   "outputs": [],
   "source": [
    "using ITensors"
   ]
  },
  {
   "cell_type": "code",
   "execution_count": 3,
   "metadata": {},
   "outputs": [
    {
     "name": "stdout",
     "output_type": "stream",
     "text": [
      "After sweep 1 energy=-138.81329497491564  maxlinkdim=10 maxerr=1.26E-02 time=1.159\n"
     ]
    },
    {
     "name": "stdout",
     "output_type": "stream",
     "text": [
      "After sweep 2 energy=-138.93726539750824  maxlinkdim=20 maxerr=5.03E-06 time=3.506\n"
     ]
    },
    {
     "name": "stdout",
     "output_type": "stream",
     "text": [
      "After sweep 3 energy=-138.94008428301743  maxlinkdim=90 maxerr=9.99E-11 time=53.384\n"
     ]
    },
    {
     "name": "stdout",
     "output_type": "stream",
     "text": [
      "After sweep 4 energy=-138.94008605519397  maxlinkdim=99 maxerr=9.99E-11 time=166.310\n"
     ]
    },
    {
     "name": "stdout",
     "output_type": "stream",
     "text": [
      "After sweep 5 energy=-138.9400860543637  maxlinkdim=95 maxerr=9.96E-11 time=179.205\n"
     ]
    },
    {
     "data": {
      "text/plain": [
       "-138.9400860543637"
      ]
     },
     "metadata": {},
     "output_type": "display_data"
    }
   ],
   "source": [
    "N = 10\n",
    "sites = siteinds(\"S=1\", N)     # S=1 spin chain\n",
    "\n",
    "# nearest neighbor Heisenberg model\n",
    "os = OpSum()\n",
    "for j=1:N-1\n",
    "    os += \"Sz\",j,\"Sz\",j+1\n",
    "    os += 1/2,\"S+\",j,\"S-\",j+1\n",
    "    os += 1/2,\"S-\",j,\"S+\",j+1\n",
    "end\n",
    "H = MPO(os, sites)\n",
    "\n",
    "# initialized MPS state with bond dimension of 10\n",
    "ψ0 = randomMPS(sites, 10)\n",
    "\n",
    "# 5 sweep to get ground state and energy\n",
    "num_sweeps = 5\n",
    "max_dim = [10, 20, 100, 100, 100]\n",
    "cutoff = 1e-10\n",
    "energy, ψ = dmrg(H, ψ0; nsweeps=num_sweeps, maxdim=max_dim, cutoff=cutoff)\n",
    "energy"
   ]
  },
  {
   "cell_type": "markdown",
   "metadata": {},
   "source": [
    "## Write a DMRG code based on ITensors\n",
    "The package ITensors provides method to construct MPS states automatically, and thus we can use the package to design our own DMRG function. "
   ]
  },
  {
   "cell_type": "code",
   "execution_count": 1,
   "metadata": {},
   "outputs": [
    {
     "data": {
      "text/plain": [
       "SimpleDMRG (generic function with 1 method)"
      ]
     },
     "execution_count": 1,
     "metadata": {},
     "output_type": "execute_result"
    }
   ],
   "source": [
    "using ITensors\n",
    "using KrylovKit\n",
    "using Printf\n",
    "using ProgressMeter\n",
    "\n",
    "ProgressMeter.ijulia_behavior(:clear)\n",
    "\n",
    "function SimpleDMRG(H, ψ₀, num_sweeps, max_dim, cutoff)\n",
    "    ψ = copy(ψ₀)\n",
    "    N = length(ψ)\n",
    "\n",
    "    # warm up\n",
    "    PH = ProjMPO(H)\n",
    "    PH = position!(PH, ψ, 1)\n",
    "    @printf \"Start sweeping:\\n\"\n",
    "    flush(stdout)\n",
    "\n",
    "    energy = 0\n",
    "    # sweep\n",
    "    for i in 1:num_sweeps\n",
    "        p = Progress((N-1)*2; dt=1,\n",
    "            desc=\"Sweep \" * string(i) * \": \",\n",
    "            barglyphs=BarGlyphs('|','█', ['▁' ,'▂' ,'▃' ,'▄' ,'▅' ,'▆', '▇'],' ','|',),\n",
    "            barlen=10)\n",
    "\n",
    "        # left to right\n",
    "        for j in 1:N-1\n",
    "            PH = position!(PH, ψ, j)\n",
    "            local_ψ = ψ[j] * ψ[j+1]\n",
    "\n",
    "            # choose lowest energy state\n",
    "            D, U = eigsolve(\n",
    "                    PH,\n",
    "                    local_ψ,\n",
    "                    1,\n",
    "                    :SR;\n",
    "                    ishermitian=true,\n",
    "                    tol=1e-14,\n",
    "                    krylovdim=3,\n",
    "                    maxiter=1,\n",
    "                  )\n",
    "            local_ψ = U[1]\n",
    "\n",
    "            # trancate dimension\n",
    "            left_ind = inds(ψ[j])\n",
    "            L, R, spec = factorize(local_ψ, left_ind,\n",
    "                which_decomp=\"svd\", ortho=\"left\",\n",
    "                cutoff=cutoff, maxdim=max_dim[i], tags=tags(linkind(ψ, j)))\n",
    "            ψ[j] = L\n",
    "            ψ[j+1] = R\n",
    "\n",
    "            # normalize\n",
    "            ψ[j+1] ./= norm(ψ[j+1])\n",
    "\n",
    "            energy = D[1]\n",
    "            next!(p; showvalues=[(:energy, round(real(energy), digits=4))])\n",
    "        end\n",
    "\n",
    "        # right to left\n",
    "        for j in N:-1:2\n",
    "            PH = position!(PH, ψ, j-1)\n",
    "\n",
    "            local_ψ = ψ[j] * ψ[j-1]\n",
    "\n",
    "            # choose lowest energy state\n",
    "            D, U = eigsolve(\n",
    "                    PH,\n",
    "                    local_ψ,\n",
    "                    1,\n",
    "                    :SR;\n",
    "                    ishermitian=true,\n",
    "                    tol=1e-14,\n",
    "                    krylovdim=3,\n",
    "                    maxiter=1,\n",
    "                  )\n",
    "            local_ψ = U[1]\n",
    "\n",
    "            # trancate dimension\n",
    "            left_ind = inds(ψ[j-1])\n",
    "            L, R, spec = factorize(local_ψ, left_ind,\n",
    "                which_decomp=\"svd\", ortho=\"right\",\n",
    "                cutoff=cutoff, maxdim=max_dim[i], tags=tags(linkind(ψ, j-1)))\n",
    "            ψ[j] = R\n",
    "            ψ[j-1] = L\n",
    "\n",
    "            # normalize\n",
    "            ψ[j-1] ./= norm(ψ[j-1])\n",
    "\n",
    "            energy = D[1]\n",
    "            next!(p; showvalues=[(:energy, round(real(energy), digits=4))])\n",
    "        end\n",
    "\n",
    "\n",
    "        finish!(p)\n",
    "    end\n",
    "end"
   ]
  },
  {
   "cell_type": "code",
   "execution_count": 2,
   "metadata": {},
   "outputs": [],
   "source": [
    "N = 100\n",
    "sites = siteinds(\"S=1\", N)     # S=1 spin chain\n",
    "\n",
    "# nearest neighbor Heisenberg model\n",
    "os = OpSum()\n",
    "for j=1:N-1\n",
    "    os += \"Sz\",j,\"Sz\",j+1\n",
    "    os += 1/2,\"S+\",j,\"S-\",j+1\n",
    "    os += 1/2,\"S-\",j,\"S+\",j+1\n",
    "end\n",
    "H = MPO(os, sites)\n",
    "\n",
    "# initialized MPS state with bond dimension of 10\n",
    "ψ0 = randomMPS(sites, 10)\n",
    "\n",
    "# 5 sweep to get ground state and energy\n",
    "num_sweeps = 5\n",
    "max_dim = [10, 20, 100, 100, 100]\n",
    "cutoff = 1e-10;"
   ]
  },
  {
   "cell_type": "code",
   "execution_count": 3,
   "metadata": {},
   "outputs": [
    {
     "name": "stderr",
     "output_type": "stream",
     "text": [
      "\u001b[32mSweep 5: 100%|██████████| Time: 0:03:35\u001b[39m\n",
      "\u001b[34m  energy:  -138.9401\u001b[39m\n"
     ]
    },
    {
     "name": "stdout",
     "output_type": "stream",
     "text": [
      "527.502446 seconds (92.22 M allocations: 21.834 GiB, 0.67% gc time, 6.54% compilation time)\n"
     ]
    },
    {
     "name": "stderr",
     "output_type": "stream",
     "text": [
      "\n",
      "\r",
      "\u001b[K\u001b[A\r",
      "\u001b[32mSweep 1: 100%|██████████| Time: 0:00:28\u001b[39m\u001b[K\r\n",
      "\u001b[34m  energy:  -138.8313\u001b[39m\u001b[K\n"
     ]
    },
    {
     "name": "stderr",
     "output_type": "stream",
     "text": [
      "\r",
      "\u001b[32mSweep 2:  37%|███▅      |  ETA: 0:00:02\u001b[39m\u001b[K\r\n",
      "\u001b[34m  energy:  -138.8944\u001b[39m\u001b[K\r",
      "\u001b[A"
     ]
    },
    {
     "name": "stderr",
     "output_type": "stream",
     "text": [
      "\n",
      "\r",
      "\u001b[K\u001b[A\r",
      "\u001b[32mSweep 2:  73%|███████▃  |  ETA: 0:00:01\u001b[39m\u001b[K\r\n",
      "\u001b[34m  energy:  -138.936\u001b[39m\u001b[K\r",
      "\u001b[A"
     ]
    },
    {
     "name": "stderr",
     "output_type": "stream",
     "text": [
      "\n",
      "\r",
      "\u001b[K\u001b[A\r",
      "\u001b[32mSweep 2:  92%|█████████▂|  ETA: 0:00:00\u001b[39m\u001b[K\r\n",
      "\u001b[34m  energy:  -138.9371\u001b[39m\u001b[K\r",
      "\u001b[A"
     ]
    },
    {
     "name": "stderr",
     "output_type": "stream",
     "text": [
      "\n",
      "\r",
      "\u001b[K\u001b[A\r",
      "\u001b[32mSweep 2: 100%|██████████| Time: 0:00:04\u001b[39m\u001b[K\r\n",
      "\u001b[34m  energy:  -138.9373\u001b[39m\u001b[K\n"
     ]
    },
    {
     "name": "stderr",
     "output_type": "stream",
     "text": [
      "\r",
      "\u001b[32mSweep 3:   9%|▇         |  ETA: 0:00:12\u001b[39m\u001b[K\r\n",
      "\u001b[34m  energy:  -138.9377\u001b[39m\u001b[K\r",
      "\u001b[A"
     ]
    },
    {
     "name": "stderr",
     "output_type": "stream",
     "text": [
      "\n",
      "\r",
      "\u001b[K\u001b[A\r",
      "\u001b[32mSweep 3:  16%|█▅        |  ETA: 0:00:13\u001b[39m\u001b[K\r\n",
      "\u001b[34m  energy:  -138.9381\u001b[39m\u001b[K\r",
      "\u001b[A"
     ]
    },
    {
     "name": "stderr",
     "output_type": "stream",
     "text": [
      "\n",
      "\r",
      "\u001b[K\u001b[A\r",
      "\u001b[32mSweep 3:  22%|██▁       |  ETA: 0:00:12\u001b[39m\u001b[K\r\n",
      "\u001b[34m  energy:  -138.9385\u001b[39m\u001b[K\r",
      "\u001b[A"
     ]
    },
    {
     "name": "stderr",
     "output_type": "stream",
     "text": [
      "\n",
      "\r",
      "\u001b[K\u001b[A\r",
      "\u001b[32mSweep 3:  28%|██▆       |  ETA: 0:00:12\u001b[39m\u001b[K\r\n",
      "\u001b[34m  energy:  -138.9388\u001b[39m\u001b[K\r",
      "\u001b[A"
     ]
    },
    {
     "name": "stderr",
     "output_type": "stream",
     "text": [
      "\n",
      "\r",
      "\u001b[K\u001b[A\r",
      "\u001b[32mSweep 3:  34%|███▃      |  ETA: 0:00:11\u001b[39m\u001b[K\r\n",
      "\u001b[34m  energy:  -138.9391\u001b[39m\u001b[K\r",
      "\u001b[A"
     ]
    },
    {
     "name": "stderr",
     "output_type": "stream",
     "text": [
      "\n",
      "\r",
      "\u001b[K\u001b[A\r",
      "\u001b[32mSweep 3:  40%|████      |  ETA: 0:00:10\u001b[39m\u001b[K\r\n",
      "\u001b[34m  energy:  -138.9395\u001b[39m\u001b[K\r",
      "\u001b[A"
     ]
    },
    {
     "name": "stderr",
     "output_type": "stream",
     "text": [
      "\n",
      "\r",
      "\u001b[K\u001b[A\r",
      "\u001b[32mSweep 3:  46%|████▅     |  ETA: 0:00:09\u001b[39m\u001b[K\r\n",
      "\u001b[34m  energy:  -138.9399\u001b[39m\u001b[K\r",
      "\u001b[A"
     ]
    },
    {
     "name": "stderr",
     "output_type": "stream",
     "text": [
      "\n",
      "\r",
      "\u001b[K\u001b[A\r",
      "\u001b[32mSweep 3:  56%|█████▄    |  ETA: 0:00:10\u001b[39m\u001b[K\r\n",
      "\u001b[34m  energy:  -138.94\u001b[39m\u001b[K\r",
      "\u001b[A"
     ]
    },
    {
     "name": "stderr",
     "output_type": "stream",
     "text": [
      "\n",
      "\r",
      "\u001b[K\u001b[A\r",
      "\u001b[32mSweep 3:  58%|█████▆    |  ETA: 0:00:11\u001b[39m\u001b[K\r\n",
      "\u001b[34m  energy:  -138.94\u001b[39m\u001b[K\r",
      "\u001b[A"
     ]
    },
    {
     "name": "stderr",
     "output_type": "stream",
     "text": [
      "\n",
      "\r",
      "\u001b[K\u001b[A\r",
      "\u001b[32mSweep 3:  59%|█████▇    |  ETA: 0:00:12\u001b[39m\u001b[K\r\n",
      "\u001b[34m  energy:  -138.94\u001b[39m\u001b[K\r",
      "\u001b[A"
     ]
    },
    {
     "name": "stderr",
     "output_type": "stream",
     "text": [
      "\n",
      "\r",
      "\u001b[K\u001b[A\r",
      "\u001b[32mSweep 3:  60%|██████    |  ETA: 0:00:12\u001b[39m\u001b[K\r\n",
      "\u001b[34m  energy:  -138.94\u001b[39m\u001b[K\r",
      "\u001b[A"
     ]
    },
    {
     "name": "stderr",
     "output_type": "stream",
     "text": [
      "\n",
      "\r",
      "\u001b[K\u001b[A\r",
      "\u001b[32mSweep 3:  61%|██████    |  ETA: 0:00:12\u001b[39m\u001b[K\r\n",
      "\u001b[34m  energy:  -138.94\u001b[39m\u001b[K\r",
      "\u001b[A"
     ]
    },
    {
     "name": "stderr",
     "output_type": "stream",
     "text": [
      "\n",
      "\r",
      "\u001b[K\u001b[A\r",
      "\u001b[32mSweep 3:  62%|██████▁   |  ETA: 0:00:13\u001b[39m\u001b[K\r\n",
      "\u001b[34m  energy:  -138.94\u001b[39m\u001b[K\r",
      "\u001b[A"
     ]
    },
    {
     "name": "stderr",
     "output_type": "stream",
     "text": [
      "\n",
      "\r",
      "\u001b[K\u001b[A\r",
      "\u001b[32mSweep 3:  63%|██████▂   |  ETA: 0:00:13\u001b[39m\u001b[K\r\n",
      "\u001b[34m  energy:  -138.94\u001b[39m\u001b[K\r",
      "\u001b[A"
     ]
    },
    {
     "name": "stderr",
     "output_type": "stream",
     "text": [
      "\n",
      "\r",
      "\u001b[K\u001b[A\r",
      "\u001b[32mSweep 3:  64%|██████▃   |  ETA: 0:00:13\u001b[39m\u001b[K\r\n",
      "\u001b[34m  energy:  -138.94\u001b[39m\u001b[K\r",
      "\u001b[A"
     ]
    },
    {
     "name": "stderr",
     "output_type": "stream",
     "text": [
      "\n",
      "\r",
      "\u001b[K\u001b[A\r",
      "\u001b[32mSweep 3:  65%|██████▄   |  ETA: 0:00:13\u001b[39m\u001b[K\r\n",
      "\u001b[34m  energy:  -138.94\u001b[39m\u001b[K\r",
      "\u001b[A"
     ]
    },
    {
     "name": "stderr",
     "output_type": "stream",
     "text": [
      "\n",
      "\r",
      "\u001b[K\u001b[A\r",
      "\u001b[32mSweep 3:  66%|██████▅   |  ETA: 0:00:14\u001b[39m\u001b[K\r\n",
      "\u001b[34m  energy:  -138.94\u001b[39m\u001b[K\r",
      "\u001b[A"
     ]
    },
    {
     "name": "stderr",
     "output_type": "stream",
     "text": [
      "\n",
      "\r",
      "\u001b[K\u001b[A\r",
      "\u001b[32mSweep 3:  67%|██████▅   |  ETA: 0:00:14\u001b[39m\u001b[K\r\n",
      "\u001b[34m  energy:  -138.94\u001b[39m\u001b[K\r",
      "\u001b[A"
     ]
    },
    {
     "name": "stderr",
     "output_type": "stream",
     "text": [
      "\n",
      "\r",
      "\u001b[K\u001b[A\r",
      "\u001b[32mSweep 3:  68%|██████▆   |  ETA: 0:00:14\u001b[39m\u001b[K\r\n",
      "\u001b[34m  energy:  -138.94\u001b[39m\u001b[K\r",
      "\u001b[A"
     ]
    },
    {
     "name": "stderr",
     "output_type": "stream",
     "text": [
      "\n",
      "\r",
      "\u001b[K\u001b[A\r",
      "\u001b[32mSweep 3:  69%|██████▇   |  ETA: 0:00:14\u001b[39m\u001b[K\r\n",
      "\u001b[34m  energy:  -138.94\u001b[39m\u001b[K\r",
      "\u001b[A"
     ]
    },
    {
     "name": "stderr",
     "output_type": "stream",
     "text": [
      "\n",
      "\r",
      "\u001b[K\u001b[A\r",
      "\u001b[32mSweep 3:  70%|███████   |  ETA: 0:00:13\u001b[39m\u001b[K\r\n",
      "\u001b[34m  energy:  -138.9401\u001b[39m\u001b[K\r",
      "\u001b[A"
     ]
    },
    {
     "name": "stderr",
     "output_type": "stream",
     "text": [
      "\n",
      "\r",
      "\u001b[K\u001b[A\r",
      "\u001b[32mSweep 3:  71%|███████▁  |  ETA: 0:00:13\u001b[39m\u001b[K\r\n",
      "\u001b[34m  energy:  -138.9401\u001b[39m\u001b[K\r",
      "\u001b[A"
     ]
    },
    {
     "name": "stderr",
     "output_type": "stream",
     "text": [
      "\n",
      "\r",
      "\u001b[K\u001b[A\r",
      "\u001b[32mSweep 3:  72%|███████▁  |  ETA: 0:00:13\u001b[39m\u001b[K\r\n",
      "\u001b[34m  energy:  -138.9401\u001b[39m\u001b[K\r",
      "\u001b[A"
     ]
    },
    {
     "name": "stderr",
     "output_type": "stream",
     "text": [
      "\n",
      "\r",
      "\u001b[K\u001b[A\r",
      "\u001b[32mSweep 3:  73%|███████▂  |  ETA: 0:00:13\u001b[39m\u001b[K\r\n",
      "\u001b[34m  energy:  -138.9401\u001b[39m\u001b[K\r",
      "\u001b[A"
     ]
    },
    {
     "name": "stderr",
     "output_type": "stream",
     "text": [
      "\n",
      "\r",
      "\u001b[K\u001b[A\r",
      "\u001b[32mSweep 3:  74%|███████▃  |  ETA: 0:00:13\u001b[39m\u001b[K\r\n",
      "\u001b[34m  energy:  -138.9401\u001b[39m\u001b[K\r",
      "\u001b[A"
     ]
    }
   ],
   "source": [
    "@time SimpleDMRG(H, ψ0, num_sweeps, max_dim, cutoff)"
   ]
  },
  {
   "cell_type": "code",
   "execution_count": null,
   "metadata": {},
   "outputs": [],
   "source": []
  }
 ],
 "metadata": {
  "kernelspec": {
   "display_name": "Julia 1.9.3",
   "language": "julia",
   "name": "julia-1.9"
  },
  "language_info": {
   "file_extension": ".jl",
   "mimetype": "application/julia",
   "name": "julia",
   "version": "1.9.3"
  }
 },
 "nbformat": 4,
 "nbformat_minor": 4
}
