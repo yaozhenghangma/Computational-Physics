{
 "cells": [
  {
   "cell_type": "markdown",
   "metadata": {},
   "source": [
    "# Density Matrix Renormalization Group"
   ]
  },
  {
   "cell_type": "markdown",
   "metadata": {},
   "source": [
    "## DMRG function from ITensors"
   ]
  },
  {
   "cell_type": "code",
   "execution_count": 1,
   "metadata": {},
   "outputs": [],
   "source": [
    "using ITensors"
   ]
  },
  {
   "cell_type": "code",
   "execution_count": 3,
   "metadata": {},
   "outputs": [
    {
     "name": "stdout",
     "output_type": "stream",
     "text": [
      "After sweep 1 energy=-138.81329497491564  maxlinkdim=10 maxerr=1.26E-02 time=1.159\n"
     ]
    },
    {
     "name": "stdout",
     "output_type": "stream",
     "text": [
      "After sweep 2 energy=-138.93726539750824  maxlinkdim=20 maxerr=5.03E-06 time=3.506\n"
     ]
    },
    {
     "name": "stdout",
     "output_type": "stream",
     "text": [
      "After sweep 3 energy=-138.94008428301743  maxlinkdim=90 maxerr=9.99E-11 time=53.384\n"
     ]
    },
    {
     "name": "stdout",
     "output_type": "stream",
     "text": [
      "After sweep 4 energy=-138.94008605519397  maxlinkdim=99 maxerr=9.99E-11 time=166.310\n"
     ]
    },
    {
     "name": "stdout",
     "output_type": "stream",
     "text": [
      "After sweep 5 energy=-138.9400860543637  maxlinkdim=95 maxerr=9.96E-11 time=179.205\n"
     ]
    },
    {
     "data": {
      "text/plain": [
       "-138.9400860543637"
      ]
     },
     "metadata": {},
     "output_type": "display_data"
    }
   ],
   "source": [
    "N = 100\n",
    "sites = siteinds(\"S=1\", N)     # S=1 spin chain\n",
    "\n",
    "# nearest neighbor Heisenberg model\n",
    "os = OpSum()\n",
    "for j=1:N-1\n",
    "    os += \"Sz\",j,\"Sz\",j+1\n",
    "    os += 1/2,\"S+\",j,\"S-\",j+1\n",
    "    os += 1/2,\"S-\",j,\"S+\",j+1\n",
    "end\n",
    "H = MPO(os, sites)\n",
    "\n",
    "# initialized MPS state with bond dimension of 10\n",
    "ψ0 = randomMPS(sites, 10)\n",
    "\n",
    "# 5 sweep to get ground state and energy\n",
    "num_sweeps = 5\n",
    "max_dim = [10, 20, 100, 100, 100]\n",
    "cutoff = 1e-10\n",
    "energy, ψ = dmrg(H, ψ0; nsweeps=num_sweeps, maxdim=max_dim, cutoff=cutoff)\n",
    "energy"
   ]
  },
  {
   "cell_type": "markdown",
   "metadata": {},
   "source": [
    "## Write a DMRG code based on ITensors\n",
    "The package ITensors provides method to construct MPS states automatically, and thus we can use the package to design our own DMRG function. "
   ]
  },
  {
   "cell_type": "code",
   "execution_count": 13,
   "metadata": {},
   "outputs": [
    {
     "data": {
      "text/plain": [
       "SimpleDMRG (generic function with 1 method)"
      ]
     },
     "execution_count": 13,
     "metadata": {},
     "output_type": "execute_result"
    }
   ],
   "source": [
    "using ITensors\n",
    "using KrylovKit\n",
    "using Printf\n",
    "using ProgressMeter\n",
    "\n",
    "ProgressMeter.ijulia_behavior(:clear)\n",
    "IdentityITensor() = ITensor([1.0])\n",
    "\n",
    "function SimpleDMRG(H, ψ₀, num_sweeps, max_dim, cutoff)\n",
    "    ψ = copy(ψ₀)\n",
    "    N = length(ψ)\n",
    "\n",
    "    # warm up\n",
    "    left = [IdentityITensor()]\n",
    "    right = [IdentityITensor()]\n",
    "    for j in 2:N\n",
    "        local_ψ = ψ[j] * ψ[j-1]\n",
    "        append!(left, [contract(left[end], ψ[j-1]', H[j-1], ψ[j-1])])\n",
    "        append!(right, [IdentityITensor()])\n",
    "    end\n",
    "    @printf \"Start sweeping:\\n\"\n",
    "    flush(stdout)\n",
    "\n",
    "    energy = 0\n",
    "    # sweep\n",
    "    for i in 1:num_sweeps\n",
    "        p = Progress((N-1)*2; dt=2,\n",
    "            desc=\"Sweep \" * string(i) * \": \",\n",
    "            barglyphs=BarGlyphs('|','█', ['▁' ,'▂' ,'▃' ,'▄' ,'▅' ,'▆', '▇'],' ','|',),\n",
    "            barlen=10)\n",
    "\n",
    "        # right to left\n",
    "        for j in N:-1:2\n",
    "            local_ψ = ψ[j] * ψ[j-1]\n",
    "            local_H = contract(left[j-1], H[j-1], H[j], right[j])\n",
    "\n",
    "            # choose lowest energy state\n",
    "            D, U = eigsolve(x->noprime(contract(local_H, x)), local_ψ, 1)\n",
    "            new_ψ = U[1]\n",
    "\n",
    "            # trancate dimension\n",
    "            left_ind = inds(ψ[j-1])\n",
    "            L, R, spec = factorize(new_ψ, left_ind,\n",
    "                which_decomp=\"qr\", ortho=\"right\",\n",
    "                cutoff=cutoff, maxdim=max_dim[i], tags=tags(linkind(ψ, j-1)))\n",
    "            right[j-1] = contract(R', right[j], R, H[j])\n",
    "            ψ[j] = R\n",
    "            ψ[j-1] = L\n",
    "\n",
    "            energy = D[1]\n",
    "            next!(p; showvalues=[(:energy, energy)])\n",
    "        end\n",
    "\n",
    "        # left to right\n",
    "        for j in 1:N-1\n",
    "            local_ψ = ψ[j] * ψ[j+1]\n",
    "            local_H = contract(left[j], H[j], H[j+1], right[j+1])\n",
    "\n",
    "            # choose lowest energy state\n",
    "            D, U = eigsolve(x->noprime(contract(local_H, x)), local_ψ, 1)\n",
    "            new_ψ = U[1]\n",
    "\n",
    "            # trancate dimension\n",
    "            left_ind = inds(ψ[j])\n",
    "            L, R, spec = factorize(new_ψ, left_ind,\n",
    "                which_decomp=\"qr\", ortho=\"left\",\n",
    "                cutoff=cutoff, maxdim=max_dim[i], tags=tags(linkind(ψ, j)))\n",
    "            left[j+1] = contract(L', left[j], L, H[j])\n",
    "            ψ[j] = L\n",
    "            ψ[j+1] = R\n",
    "\n",
    "            energy = D[1]\n",
    "            next!(p; showvalues=[(:energy, energy)])\n",
    "        end\n",
    "\n",
    "        #@printf \"Sweep %d: energy=%f\\n\" i energy\n",
    "        #flush(stdout)\n",
    "    end\n",
    "end"
   ]
  },
  {
   "cell_type": "code",
   "execution_count": 14,
   "metadata": {},
   "outputs": [
    {
     "data": {
      "text/plain": [
       "1.0e-10"
      ]
     },
     "execution_count": 14,
     "metadata": {},
     "output_type": "execute_result"
    }
   ],
   "source": [
    "N = 100\n",
    "sites = siteinds(\"S=1\", N)     # S=1 spin chain\n",
    "\n",
    "# nearest neighbor Heisenberg model\n",
    "os = OpSum()\n",
    "for j=1:N-1\n",
    "    os += \"Sz\",j,\"Sz\",j+1\n",
    "    os += 1/2,\"S+\",j,\"S-\",j+1\n",
    "    os += 1/2,\"S-\",j,\"S+\",j+1\n",
    "end\n",
    "H = MPO(os, sites)\n",
    "\n",
    "# initialized MPS state with bond dimension of 10\n",
    "ψ0 = randomMPS(sites, 10)\n",
    "\n",
    "# 5 sweep to get ground state and energy\n",
    "num_sweeps = 2\n",
    "max_dim = [10, 20, 100, 100, 100]\n",
    "cutoff = 1e-10"
   ]
  },
  {
   "cell_type": "code",
   "execution_count": 15,
   "metadata": {},
   "outputs": [
    {
     "name": "stderr",
     "output_type": "stream",
     "text": [
      "\u001b[32mSweep 1:   4%|▃         |  ETA: 0:17:16\u001b[39m\n",
      "\u001b[34m  energy:  -2.843728456952626 + 0.0im\u001b[39m"
     ]
    },
    {
     "ename": "LoadError",
     "evalue": "InterruptException:",
     "output_type": "error",
     "traceback": [
      "InterruptException:",
      "",
      "Stacktrace:",
      "  [1] contract(::Type{NDTensors.CanContract{NDTensors.DenseTensor{ComplexF64, 8, NTuple{8, Index{Int64}}, NDTensors.Dense{ComplexF64, Vector{ComplexF64}}}, NDTensors.DenseTensor{ComplexF64, 4, NTuple{4, Index{Int64}}, NDTensors.Dense{ComplexF64, Vector{ComplexF64}}}}}, tensor1::NDTensors.DenseTensor{ComplexF64, 8, NTuple{8, Index{Int64}}, NDTensors.Dense{ComplexF64, Vector{ComplexF64}}}, labels_tensor1::NTuple{8, Int64}, tensor2::NDTensors.DenseTensor{ComplexF64, 4, NTuple{4, Index{Int64}}, NDTensors.Dense{ComplexF64, Vector{ComplexF64}}}, labels_tensor2::NTuple{4, Int64})",
      "    @ NDTensors ~/.julia/packages/NDTensors/06hEB/src/tensoralgebra/generic_tensor_operations.jl:76",
      "  [2] contract",
      "    @ ~/.julia/packages/SimpleTraits/l1ZsK/src/SimpleTraits.jl:331 [inlined]",
      "  [3] _contract(A::NDTensors.DenseTensor{ComplexF64, 8, NTuple{8, Index{Int64}}, NDTensors.Dense{ComplexF64, Vector{ComplexF64}}}, B::NDTensors.DenseTensor{ComplexF64, 4, NTuple{4, Index{Int64}}, NDTensors.Dense{ComplexF64, Vector{ComplexF64}}})",
      "    @ ITensors ~/.julia/packages/ITensors/52gcm/src/tensor_operations/tensor_algebra.jl:3",
      "  [4] _contract(A::ITensor, B::ITensor)",
      "    @ ITensors ~/.julia/packages/ITensors/52gcm/src/tensor_operations/tensor_algebra.jl:9",
      "  [5] contract(A::ITensor, B::ITensor)",
      "    @ ITensors ~/.julia/packages/ITensors/52gcm/src/tensor_operations/tensor_algebra.jl:104",
      "  [6] #11",
      "    @ ./In[13]:38 [inlined]",
      "  [7] apply(f::var\"#11#13\"{ITensor}, x::ITensor)",
      "    @ KrylovKit ~/.julia/packages/KrylovKit/diNbc/src/apply.jl:2",
      "  [8] arnoldirecurrence!(operator::Function, V::KrylovKit.OrthonormalBasis{ITensor}, h::SubArray{ComplexF64, 1, Vector{ComplexF64}, Tuple{UnitRange{Int64}}, true}, orth::ModifiedGramSchmidt2)",
      "    @ KrylovKit ~/.julia/packages/KrylovKit/diNbc/src/factorizations/arnoldi.jl:235",
      "  [9] expand!(iter::ArnoldiIterator{var\"#11#13\"{ITensor}, ITensor, ModifiedGramSchmidt2}, state::KrylovKit.ArnoldiFactorization{ITensor, ComplexF64}; verbosity::Int64)",
      "    @ KrylovKit ~/.julia/packages/KrylovKit/diNbc/src/factorizations/arnoldi.jl:206",
      " [10] _schursolve(A::Function, x₀::ITensor, howmany::Int64, which::Symbol, alg::Arnoldi{ModifiedGramSchmidt2, Float64})",
      "    @ KrylovKit ~/.julia/packages/KrylovKit/diNbc/src/eigsolve/arnoldi.jl:243",
      " [11] eigsolve(A::Function, x₀::ITensor, howmany::Int64, which::Symbol, alg::Arnoldi{ModifiedGramSchmidt2, Float64})",
      "    @ KrylovKit ~/.julia/packages/KrylovKit/diNbc/src/eigsolve/arnoldi.jl:131",
      " [12] #eigsolve#38",
      "    @ ~/.julia/packages/KrylovKit/diNbc/src/eigsolve/eigsolve.jl:202 [inlined]",
      " [13] eigsolve (repeats 2 times)",
      "    @ ~/.julia/packages/KrylovKit/diNbc/src/eigsolve/eigsolve.jl:180 [inlined]",
      " [14] SimpleDMRG(H::MPO, ψ₀::MPS, num_sweeps::Int64, max_dim::Vector{Int64}, cutoff::Float64)",
      "    @ Main ./In[13]:38"
     ]
    }
   ],
   "source": [
    "SimpleDMRG(H, ψ0, num_sweeps, max_dim, cutoff)"
   ]
  },
  {
   "cell_type": "code",
   "execution_count": null,
   "metadata": {},
   "outputs": [],
   "source": []
  }
 ],
 "metadata": {
  "kernelspec": {
   "display_name": "Julia 1.9.3",
   "language": "julia",
   "name": "julia-1.9"
  },
  "language_info": {
   "file_extension": ".jl",
   "mimetype": "application/julia",
   "name": "julia",
   "version": "1.9.3"
  }
 },
 "nbformat": 4,
 "nbformat_minor": 4
}
