{
 "cells": [
  {
   "cell_type": "markdown",
   "metadata": {},
   "source": [
    "# Density Matrix Renormalization Group"
   ]
  },
  {
   "cell_type": "code",
   "execution_count": 1,
   "metadata": {},
   "outputs": [],
   "source": [
    "using ITensors"
   ]
  },
  {
   "cell_type": "code",
   "execution_count": 2,
   "metadata": {},
   "outputs": [
    {
     "name": "stdout",
     "output_type": "stream",
     "text": [
      "After sweep 1 energy=-138.80108999581793  maxlinkdim=10 maxerr=1.21E-02 time=21.101\n"
     ]
    },
    {
     "name": "stdout",
     "output_type": "stream",
     "text": [
      "After sweep 2 energy=-138.93727320214626  maxlinkdim=20 maxerr=5.03E-06 time=2.893\n"
     ]
    },
    {
     "name": "stdout",
     "output_type": "stream",
     "text": [
      "After sweep 3 energy=-138.9400843312504  maxlinkdim=90 maxerr=9.99E-11 time=55.071\n"
     ]
    },
    {
     "name": "stdout",
     "output_type": "stream",
     "text": [
      "After sweep 4 energy=-138.94008607274145  maxlinkdim=99 maxerr=1.00E-10 time=162.831\n"
     ]
    },
    {
     "name": "stdout",
     "output_type": "stream",
     "text": [
      "After sweep 5 energy=-138.94008607224993  maxlinkdim=95 maxerr=9.99E-11 time=176.355\n"
     ]
    },
    {
     "data": {
      "text/plain": [
       "(-138.94008607224993, MPS\n",
       "[1] ((dim=3|id=904|\"Link,l=1\"), (dim=3|id=751|\"S=1,Site,n=1\"))\n",
       "[2] ((dim=9|id=350|\"Link,l=2\"), (dim=3|id=962|\"S=1,Site,n=2\"), (dim=3|id=904|\"Link,l=1\"))\n",
       "[3] ((dim=3|id=762|\"S=1,Site,n=3\"), (dim=27|id=837|\"Link,l=3\"), (dim=9|id=350|\"Link,l=2\"))\n",
       "[4] ((dim=3|id=767|\"S=1,Site,n=4\"), (dim=53|id=447|\"Link,l=4\"), (dim=27|id=837|\"Link,l=3\"))\n",
       "[5] ((dim=3|id=396|\"S=1,Site,n=5\"), (dim=64|id=600|\"Link,l=5\"), (dim=53|id=447|\"Link,l=4\"))\n",
       "[6] ((dim=3|id=409|\"S=1,Site,n=6\"), (dim=73|id=52|\"Link,l=6\"), (dim=64|id=600|\"Link,l=5\"))\n",
       "[7] ((dim=3|id=47|\"S=1,Site,n=7\"), (dim=78|id=88|\"Link,l=7\"), (dim=73|id=52|\"Link,l=6\"))\n",
       "[8] ((dim=3|id=742|\"S=1,Site,n=8\"), (dim=83|id=852|\"Link,l=8\"), (dim=78|id=88|\"Link,l=7\"))\n",
       "[9] ((dim=3|id=577|\"S=1,Site,n=9\"), (dim=86|id=746|\"Link,l=9\"), (dim=83|id=852|\"Link,l=8\"))\n",
       "[10] ((dim=3|id=321|\"S=1,Site,n=10\"), (dim=89|id=422|\"Link,l=10\"), (dim=86|id=746|\"Link,l=9\"))\n",
       "[11] ((dim=3|id=238|\"S=1,Site,n=11\"), (dim=91|id=593|\"Link,l=11\"), (dim=89|id=422|\"Link,l=10\"))\n",
       "[12] ((dim=3|id=596|\"S=1,Site,n=12\"), (dim=93|id=464|\"Link,l=12\"), (dim=91|id=593|\"Link,l=11\"))\n",
       "[13] ((dim=3|id=819|\"S=1,Site,n=13\"), (dim=94|id=266|\"Link,l=13\"), (dim=93|id=464|\"Link,l=12\"))\n",
       "[14] ((dim=3|id=643|\"S=1,Site,n=14\"), (dim=95|id=28|\"Link,l=14\"), (dim=94|id=266|\"Link,l=13\"))\n",
       "[15] ((dim=3|id=965|\"S=1,Site,n=15\"), (dim=95|id=873|\"Link,l=15\"), (dim=95|id=28|\"Link,l=14\"))\n",
       "[16] ((dim=3|id=129|\"S=1,Site,n=16\"), (dim=95|id=544|\"Link,l=16\"), (dim=95|id=873|\"Link,l=15\"))\n",
       "[17] ((dim=3|id=9|\"S=1,Site,n=17\"), (dim=95|id=43|\"Link,l=17\"), (dim=95|id=544|\"Link,l=16\"))\n",
       "[18] ((dim=3|id=428|\"S=1,Site,n=18\"), (dim=95|id=442|\"Link,l=18\"), (dim=95|id=43|\"Link,l=17\"))\n",
       "[19] ((dim=3|id=652|\"S=1,Site,n=19\"), (dim=95|id=416|\"Link,l=19\"), (dim=95|id=442|\"Link,l=18\"))\n",
       "[20] ((dim=3|id=194|\"S=1,Site,n=20\"), (dim=94|id=941|\"Link,l=20\"), (dim=95|id=416|\"Link,l=19\"))\n",
       "[21] ((dim=3|id=244|\"S=1,Site,n=21\"), (dim=94|id=405|\"Link,l=21\"), (dim=94|id=941|\"Link,l=20\"))\n",
       "[22] ((dim=3|id=123|\"S=1,Site,n=22\"), (dim=94|id=913|\"Link,l=22\"), (dim=94|id=405|\"Link,l=21\"))\n",
       "[23] ((dim=3|id=920|\"S=1,Site,n=23\"), (dim=93|id=745|\"Link,l=23\"), (dim=94|id=913|\"Link,l=22\"))\n",
       "[24] ((dim=3|id=449|\"S=1,Site,n=24\"), (dim=93|id=958|\"Link,l=24\"), (dim=93|id=745|\"Link,l=23\"))\n",
       "[25] ((dim=3|id=607|\"S=1,Site,n=25\"), (dim=92|id=796|\"Link,l=25\"), (dim=93|id=958|\"Link,l=24\"))\n",
       "[26] ((dim=3|id=771|\"S=1,Site,n=26\"), (dim=92|id=911|\"Link,l=26\"), (dim=92|id=796|\"Link,l=25\"))\n",
       "[27] ((dim=3|id=690|\"S=1,Site,n=27\"), (dim=91|id=945|\"Link,l=27\"), (dim=92|id=911|\"Link,l=26\"))\n",
       "[28] ((dim=3|id=211|\"S=1,Site,n=28\"), (dim=91|id=416|\"Link,l=28\"), (dim=91|id=945|\"Link,l=27\"))\n",
       "[29] ((dim=3|id=723|\"S=1,Site,n=29\"), (dim=90|id=88|\"Link,l=29\"), (dim=91|id=416|\"Link,l=28\"))\n",
       "[30] ((dim=3|id=701|\"S=1,Site,n=30\"), (dim=90|id=326|\"Link,l=30\"), (dim=90|id=88|\"Link,l=29\"))\n",
       "[31] ((dim=3|id=978|\"S=1,Site,n=31\"), (dim=90|id=138|\"Link,l=31\"), (dim=90|id=326|\"Link,l=30\"))\n",
       "[32] ((dim=3|id=279|\"S=1,Site,n=32\"), (dim=90|id=510|\"Link,l=32\"), (dim=90|id=138|\"Link,l=31\"))\n",
       "[33] ((dim=3|id=880|\"S=1,Site,n=33\"), (dim=90|id=973|\"Link,l=33\"), (dim=90|id=510|\"Link,l=32\"))\n",
       "[34] ((dim=3|id=918|\"S=1,Site,n=34\"), (dim=90|id=157|\"Link,l=34\"), (dim=90|id=973|\"Link,l=33\"))\n",
       "[35] ((dim=3|id=520|\"S=1,Site,n=35\"), (dim=90|id=176|\"Link,l=35\"), (dim=90|id=157|\"Link,l=34\"))\n",
       "[36] ((dim=3|id=7|\"S=1,Site,n=36\"), (dim=90|id=770|\"Link,l=36\"), (dim=90|id=176|\"Link,l=35\"))\n",
       "[37] ((dim=3|id=326|\"S=1,Site,n=37\"), (dim=90|id=885|\"Link,l=37\"), (dim=90|id=770|\"Link,l=36\"))\n",
       "[38] ((dim=3|id=879|\"S=1,Site,n=38\"), (dim=90|id=946|\"Link,l=38\"), (dim=90|id=885|\"Link,l=37\"))\n",
       "[39] ((dim=3|id=441|\"S=1,Site,n=39\"), (dim=90|id=417|\"Link,l=39\"), (dim=90|id=946|\"Link,l=38\"))\n",
       "[40] ((dim=3|id=663|\"S=1,Site,n=40\"), (dim=90|id=377|\"Link,l=40\"), (dim=90|id=417|\"Link,l=39\"))\n",
       "[41] ((dim=3|id=700|\"S=1,Site,n=41\"), (dim=90|id=694|\"Link,l=41\"), (dim=90|id=377|\"Link,l=40\"))\n",
       "[42] ((dim=3|id=807|\"S=1,Site,n=42\"), (dim=90|id=863|\"Link,l=42\"), (dim=90|id=694|\"Link,l=41\"))\n",
       "[43] ((dim=3|id=696|\"S=1,Site,n=43\"), (dim=90|id=571|\"Link,l=43\"), (dim=90|id=863|\"Link,l=42\"))\n",
       "[44] ((dim=3|id=794|\"S=1,Site,n=44\"), (dim=90|id=503|\"Link,l=44\"), (dim=90|id=571|\"Link,l=43\"))\n",
       "[45] ((dim=3|id=357|\"S=1,Site,n=45\"), (dim=90|id=644|\"Link,l=45\"), (dim=90|id=503|\"Link,l=44\"))\n",
       "[46] ((dim=3|id=307|\"S=1,Site,n=46\"), (dim=90|id=558|\"Link,l=46\"), (dim=90|id=644|\"Link,l=45\"))\n",
       "[47] ((dim=3|id=57|\"S=1,Site,n=47\"), (dim=90|id=424|\"Link,l=47\"), (dim=90|id=558|\"Link,l=46\"))\n",
       "[48] ((dim=3|id=915|\"S=1,Site,n=48\"), (dim=90|id=251|\"Link,l=48\"), (dim=90|id=424|\"Link,l=47\"))\n",
       "[49] ((dim=3|id=386|\"S=1,Site,n=49\"), (dim=90|id=267|\"Link,l=49\"), (dim=90|id=251|\"Link,l=48\"))\n",
       "[50] ((dim=3|id=745|\"S=1,Site,n=50\"), (dim=90|id=983|\"Link,l=50\"), (dim=90|id=267|\"Link,l=49\"))\n",
       "[51] ((dim=3|id=978|\"S=1,Site,n=51\"), (dim=90|id=920|\"Link,l=51\"), (dim=90|id=983|\"Link,l=50\"))\n",
       "[52] ((dim=3|id=853|\"S=1,Site,n=52\"), (dim=90|id=272|\"Link,l=52\"), (dim=90|id=920|\"Link,l=51\"))\n",
       "[53] ((dim=3|id=529|\"S=1,Site,n=53\"), (dim=90|id=998|\"Link,l=53\"), (dim=90|id=272|\"Link,l=52\"))\n",
       "[54] ((dim=3|id=99|\"S=1,Site,n=54\"), (dim=90|id=618|\"Link,l=54\"), (dim=90|id=998|\"Link,l=53\"))\n",
       "[55] ((dim=3|id=473|\"S=1,Site,n=55\"), (dim=90|id=475|\"Link,l=55\"), (dim=90|id=618|\"Link,l=54\"))\n",
       "[56] ((dim=3|id=774|\"S=1,Site,n=56\"), (dim=90|id=320|\"Link,l=56\"), (dim=90|id=475|\"Link,l=55\"))\n",
       "[57] ((dim=3|id=69|\"S=1,Site,n=57\"), (dim=90|id=800|\"Link,l=57\"), (dim=90|id=320|\"Link,l=56\"))\n",
       "[58] ((dim=3|id=585|\"S=1,Site,n=58\"), (dim=90|id=640|\"Link,l=58\"), (dim=90|id=800|\"Link,l=57\"))\n",
       "[59] ((dim=3|id=768|\"S=1,Site,n=59\"), (dim=90|id=267|\"Link,l=59\"), (dim=90|id=640|\"Link,l=58\"))\n",
       "[60] ((dim=3|id=618|\"S=1,Site,n=60\"), (dim=90|id=772|\"Link,l=60\"), (dim=90|id=267|\"Link,l=59\"))\n",
       "[61] ((dim=3|id=298|\"S=1,Site,n=61\"), (dim=90|id=714|\"Link,l=61\"), (dim=90|id=772|\"Link,l=60\"))\n",
       "[62] ((dim=3|id=627|\"S=1,Site,n=62\"), (dim=90|id=863|\"Link,l=62\"), (dim=90|id=714|\"Link,l=61\"))\n",
       "[63] ((dim=3|id=479|\"S=1,Site,n=63\"), (dim=90|id=727|\"Link,l=63\"), (dim=90|id=863|\"Link,l=62\"))\n",
       "[64] ((dim=3|id=752|\"S=1,Site,n=64\"), (dim=90|id=242|\"Link,l=64\"), (dim=90|id=727|\"Link,l=63\"))\n",
       "[65] ((dim=3|id=820|\"S=1,Site,n=65\"), (dim=90|id=32|\"Link,l=65\"), (dim=90|id=242|\"Link,l=64\"))\n",
       "[66] ((dim=3|id=984|\"S=1,Site,n=66\"), (dim=90|id=844|\"Link,l=66\"), (dim=90|id=32|\"Link,l=65\"))\n",
       "[67] ((dim=3|id=497|\"S=1,Site,n=67\"), (dim=90|id=669|\"Link,l=67\"), (dim=90|id=844|\"Link,l=66\"))\n",
       "[68] ((dim=3|id=886|\"S=1,Site,n=68\"), (dim=90|id=492|\"Link,l=68\"), (dim=90|id=669|\"Link,l=67\"))\n",
       "[69] ((dim=3|id=406|\"S=1,Site,n=69\"), (dim=90|id=386|\"Link,l=69\"), (dim=90|id=492|\"Link,l=68\"))\n",
       "[70] ((dim=3|id=811|\"S=1,Site,n=70\"), (dim=90|id=646|\"Link,l=70\"), (dim=90|id=386|\"Link,l=69\"))\n",
       "[71] ((dim=3|id=505|\"S=1,Site,n=71\"), (dim=91|id=866|\"Link,l=71\"), (dim=90|id=646|\"Link,l=70\"))\n",
       "[72] ((dim=3|id=71|\"S=1,Site,n=72\"), (dim=91|id=23|\"Link,l=72\"), (dim=91|id=866|\"Link,l=71\"))\n",
       "[73] ((dim=3|id=475|\"S=1,Site,n=73\"), (dim=92|id=715|\"Link,l=73\"), (dim=91|id=23|\"Link,l=72\"))\n",
       "[74] ((dim=3|id=933|\"S=1,Site,n=74\"), (dim=92|id=836|\"Link,l=74\"), (dim=92|id=715|\"Link,l=73\"))\n",
       "[75] ((dim=3|id=122|\"S=1,Site,n=75\"), (dim=92|id=777|\"Link,l=75\"), (dim=92|id=836|\"Link,l=74\"))\n",
       "[76] ((dim=3|id=442|\"S=1,Site,n=76\"), (dim=93|id=270|\"Link,l=76\"), (dim=92|id=777|\"Link,l=75\"))\n",
       "[77] ((dim=3|id=504|\"S=1,Site,n=77\"), (dim=93|id=423|\"Link,l=77\"), (dim=93|id=270|\"Link,l=76\"))\n",
       "[78] ((dim=3|id=895|\"S=1,Site,n=78\"), (dim=94|id=987|\"Link,l=78\"), (dim=93|id=423|\"Link,l=77\"))\n",
       "[79] ((dim=3|id=985|\"S=1,Site,n=79\"), (dim=94|id=17|\"Link,l=79\"), (dim=94|id=987|\"Link,l=78\"))\n",
       "[80] ((dim=3|id=654|\"S=1,Site,n=80\"), (dim=94|id=436|\"Link,l=80\"), (dim=94|id=17|\"Link,l=79\"))\n",
       "[81] ((dim=3|id=799|\"S=1,Site,n=81\"), (dim=95|id=615|\"Link,l=81\"), (dim=94|id=436|\"Link,l=80\"))\n",
       "[82] ((dim=3|id=927|\"S=1,Site,n=82\"), (dim=95|id=551|\"Link,l=82\"), (dim=95|id=615|\"Link,l=81\"))\n",
       "[83] ((dim=3|id=754|\"S=1,Site,n=83\"), (dim=95|id=579|\"Link,l=83\"), (dim=95|id=551|\"Link,l=82\"))\n",
       "[84] ((dim=3|id=731|\"S=1,Site,n=84\"), (dim=95|id=441|\"Link,l=84\"), (dim=95|id=579|\"Link,l=83\"))\n",
       "[85] ((dim=3|id=308|\"S=1,Site,n=85\"), (dim=95|id=833|\"Link,l=85\"), (dim=95|id=441|\"Link,l=84\"))\n",
       "[86] ((dim=3|id=736|\"S=1,Site,n=86\"), (dim=95|id=322|\"Link,l=86\"), (dim=95|id=833|\"Link,l=85\"))\n",
       "[87] ((dim=3|id=175|\"S=1,Site,n=87\"), (dim=94|id=278|\"Link,l=87\"), (dim=95|id=322|\"Link,l=86\"))\n",
       "[88] ((dim=3|id=953|\"S=1,Site,n=88\"), (dim=93|id=251|\"Link,l=88\"), (dim=94|id=278|\"Link,l=87\"))\n",
       "[89] ((dim=3|id=952|\"S=1,Site,n=89\"), (dim=91|id=926|\"Link,l=89\"), (dim=93|id=251|\"Link,l=88\"))\n",
       "[90] ((dim=3|id=402|\"S=1,Site,n=90\"), (dim=89|id=259|\"Link,l=90\"), (dim=91|id=926|\"Link,l=89\"))\n",
       "[91] ((dim=3|id=287|\"S=1,Site,n=91\"), (dim=86|id=169|\"Link,l=91\"), (dim=89|id=259|\"Link,l=90\"))\n",
       "[92] ((dim=3|id=377|\"S=1,Site,n=92\"), (dim=83|id=491|\"Link,l=92\"), (dim=86|id=169|\"Link,l=91\"))\n",
       "[93] ((dim=3|id=782|\"S=1,Site,n=93\"), (dim=78|id=922|\"Link,l=93\"), (dim=83|id=491|\"Link,l=92\"))\n",
       "[94] ((dim=3|id=615|\"S=1,Site,n=94\"), (dim=73|id=929|\"Link,l=94\"), (dim=78|id=922|\"Link,l=93\"))\n",
       "[95] ((dim=3|id=143|\"S=1,Site,n=95\"), (dim=64|id=601|\"Link,l=95\"), (dim=73|id=929|\"Link,l=94\"))\n",
       "[96] ((dim=3|id=658|\"S=1,Site,n=96\"), (dim=53|id=239|\"Link,l=96\"), (dim=64|id=601|\"Link,l=95\"))\n",
       "[97] ((dim=3|id=374|\"S=1,Site,n=97\"), (dim=27|id=407|\"Link,l=97\"), (dim=53|id=239|\"Link,l=96\"))\n",
       "[98] ((dim=3|id=274|\"S=1,Site,n=98\"), (dim=9|id=168|\"Link,l=98\"), (dim=27|id=407|\"Link,l=97\"))\n",
       "[99] ((dim=3|id=839|\"S=1,Site,n=99\"), (dim=3|id=74|\"Link,l=99\"), (dim=9|id=168|\"Link,l=98\"))\n",
       "[100] ((dim=3|id=330|\"S=1,Site,n=100\"), (dim=3|id=74|\"Link,l=99\"))\n",
       ")"
      ]
     },
     "metadata": {},
     "output_type": "display_data"
    }
   ],
   "source": [
    "N = 100\n",
    "sites = siteinds(\"S=1\", N)     # S=1 spin chain\n",
    "\n",
    "# nearest neighbor Heisenberg model\n",
    "os = OpSum()\n",
    "for j=1:N-1\n",
    "    os += \"Sz\",j,\"Sz\",j+1\n",
    "    os += 1/2,\"S+\",j,\"S-\",j+1\n",
    "    os += 1/2,\"S-\",j,\"S+\",j+1\n",
    "end\n",
    "H = MPO(os, sites)\n",
    "\n",
    "# initialized MPS state with bond dimension of 10\n",
    "ψ0 = randomMPS(sites, 10)\n",
    "\n",
    "# 5 sweep to get ground state and energy\n",
    "num_sweeps = 5\n",
    "max_dim = [10, 20, 100, 100, 100]\n",
    "cutoff = 1e-10\n",
    "energy, ψ = dmrg(H, ψ0; nsweeps=num_sweeps, maxdim=max_dim, cutoff=cutoff)"
   ]
  },
  {
   "cell_type": "code",
   "execution_count": null,
   "metadata": {},
   "outputs": [],
   "source": []
  }
 ],
 "metadata": {
  "kernelspec": {
   "display_name": "Julia 1.9.3",
   "language": "julia",
   "name": "julia-1.9"
  },
  "language_info": {
   "file_extension": ".jl",
   "mimetype": "application/julia",
   "name": "julia",
   "version": "1.9.3"
  },
  "orig_nbformat": 4
 },
 "nbformat": 4,
 "nbformat_minor": 2
}
