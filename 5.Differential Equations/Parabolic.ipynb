{
 "cells": [
  {
   "cell_type": "markdown",
   "metadata": {},
   "source": [
    "## Finite Difference method\n",
    "\n",
    "### Explicit Scheme\n",
    "\n",
    "For parabolic equation, $\\nabla^2u(x,t)=\\frac{\\partial u(x,t)}{\\partial t}$, using forward difference method for time $t$, we can rewrite the equation as:\n",
    "\n",
    "$$\\frac{u_{i, j+1}-u_{i, j}}{\\Delta t}=\\frac{u_{i+1, j}-2 u_{i, j}+u_{i-1, j}}{\\Delta x^{2}}$$\n",
    "\n",
    "Or:\n",
    "\n",
    "$$u_{i, j+1}=\\alpha u_{i-1, j}+(1-2 \\alpha) u_{i, j}+\\alpha u_{i+1, j}$$\n",
    "\n",
    "where\n",
    "\n",
    "$$\\alpha = \\frac{\\Delta t}{\\Delta x^2}$$\n",
    "\n",
    "When $1-2\\alpha<0$, the explicit scheme won't be convergent.\n",
    "\n",
    "#### Example:\n",
    "\n",
    "Solve the two dimensional heat equation for a 1 $m^2$ plate using a 9\\*9 grid, subject to the following boundary condition:\n",
    "\n",
    "1. Along the left and bottom edges, the temperature is held fixed at $100^o C$.\n",
    "2. Along the right and top edges, the temperature is held fixed at $0^o C$.\n",
    "\n",
    "#### Code Example (Julia language):"
   ]
  },
  {
   "cell_type": "code",
   "execution_count": 18,
   "metadata": {},
   "outputs": [
    {
     "data": {
      "text/plain": [
       "9×9 Array{Float64,2}:\n",
       " 100.0  100.0     100.0     100.0     …  100.0      100.0      100.0\n",
       " 100.0   96.5132   93.027    89.4009      69.8651    49.9958     0.0\n",
       " 100.0   93.027    86.1962   79.3677      49.9856    30.1193     0.0\n",
       " 100.0   89.4009   79.3677   69.9091      37.1107    20.4981     0.0\n",
       " 100.0   85.2123   71.9699   60.4545      27.9893    14.7657     0.0\n",
       " 100.0   79.4815   62.8517   49.9754  …   20.5948    10.5787     0.0\n",
       " 100.0   69.8651   49.9856   37.1107      13.775      6.95744    0.0\n",
       " 100.0   49.9958   30.1193   20.4981       6.95744    3.47839    0.0\n",
       "   0.0    0.0       0.0       0.0          0.0        0.0        0.0"
      ]
     },
     "execution_count": 18,
     "metadata": {},
     "output_type": "execute_result"
    }
   ],
   "source": [
    "n = 9  # mesh size 9*9\n",
    "α = 0.25\n",
    "meshOld = Array{Float64}(undef, n, n)\n",
    "meshOld .= 0.0\n",
    "meshNew = Array{Float64}(undef, n, n)\n",
    "meshNew .= 0.0\n",
    "\n",
    "# initialize boundary value\n",
    "for i in 1:n\n",
    "    meshNew[i, 1] = 100\n",
    "    meshNew[i, n] = 0\n",
    "    meshOld[i, 1] = 100\n",
    "    meshOld[i, n] = 0\n",
    "end\n",
    "for j in 1:n\n",
    "    meshNew[1, j] = 100\n",
    "    meshNew[n, j] = 0\n",
    "    meshOld[1, j] = 100\n",
    "    meshOld[n, j] = 0\n",
    "end\n",
    "\n",
    "for i in 1:100\n",
    "    for i in 2:(n-1)\n",
    "        for j in 2:(n-1)\n",
    "            meshNew[i, j] += meshOld[i-1, j]*α\n",
    "            meshNew[i, j] += meshOld[i+1, j]*α\n",
    "\n",
    "            meshNew[i, j] += meshOld[i, j-1]*α\n",
    "            meshNew[i, j] += meshOld[i, j+1]*α\n",
    "        end\n",
    "    end\n",
    "    \n",
    "    meshOld .= meshNew    \n",
    "    meshNew[2:(n-1), 2:(n-1)] .= 0\n",
    "end\n",
    "\n",
    "meshOld"
   ]
  },
  {
   "cell_type": "markdown",
   "metadata": {},
   "source": [
    "### Implicit Scheme\n",
    "\n",
    "The explicit scheme is unstable sometimes. However, implicit scheme is stable all the time.\n",
    "\n",
    "Use backward difference to replace forward difference:\n",
    "\n"
   ]
  },
  {
   "cell_type": "code",
   "execution_count": null,
   "metadata": {},
   "outputs": [],
   "source": []
  }
 ],
 "metadata": {
  "kernelspec": {
   "display_name": "Julia 1.3.0",
   "language": "julia",
   "name": "julia-1.3"
  },
  "language_info": {
   "file_extension": ".jl",
   "mimetype": "application/julia",
   "name": "julia",
   "version": "1.3.0"
  }
 },
 "nbformat": 4,
 "nbformat_minor": 4
}
